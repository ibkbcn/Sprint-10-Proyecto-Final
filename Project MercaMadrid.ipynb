{
 "cells": [
  {
   "cell_type": "code",
   "execution_count": 1,
   "metadata": {
    "tags": []
   },
   "outputs": [],
   "source": [
    "import pandas as pd\n",
    "import numpy as np\n",
    "import matplotlib.pyplot as plt\n",
    "import seaborn as sns\n",
    "# from ydata_profiling import ProfileReport"
   ]
  },
  {
   "cell_type": "code",
   "execution_count": 2,
   "metadata": {
    "tags": []
   },
   "outputs": [],
   "source": [
    "# pip install ydata_profiling \n",
    "# pip install ipywidgets"
   ]
  },
  {
   "cell_type": "code",
   "execution_count": 2,
   "metadata": {
    "tags": []
   },
   "outputs": [
    {
     "data": {
      "text/html": [
       "<div>\n",
       "<style scoped>\n",
       "    .dataframe tbody tr th:only-of-type {\n",
       "        vertical-align: middle;\n",
       "    }\n",
       "\n",
       "    .dataframe tbody tr th {\n",
       "        vertical-align: top;\n",
       "    }\n",
       "\n",
       "    .dataframe thead th {\n",
       "        text-align: right;\n",
       "    }\n",
       "</style>\n",
       "<table border=\"1\" class=\"dataframe\">\n",
       "  <thead>\n",
       "    <tr style=\"text-align: right;\">\n",
       "      <th></th>\n",
       "      <th>Fecha Desde</th>\n",
       "      <th>Fecha Hasta</th>\n",
       "      <th>Código Variedad</th>\n",
       "      <th>Descripción Variedad</th>\n",
       "      <th>Origen</th>\n",
       "      <th>Descripción Origen</th>\n",
       "      <th>Kilos</th>\n",
       "      <th>Precio Más Frecuente</th>\n",
       "      <th>Precio Máximo</th>\n",
       "      <th>Precio Mínimo</th>\n",
       "    </tr>\n",
       "  </thead>\n",
       "  <tbody>\n",
       "    <tr>\n",
       "      <th>0</th>\n",
       "      <td>20240101</td>\n",
       "      <td>20240131</td>\n",
       "      <td>CA 0101</td>\n",
       "      <td>VACUNO CANAL</td>\n",
       "      <td>1</td>\n",
       "      <td>ALAVA</td>\n",
       "      <td>45830</td>\n",
       "      <td>5,9</td>\n",
       "      <td>5,91</td>\n",
       "      <td>5,89</td>\n",
       "    </tr>\n",
       "    <tr>\n",
       "      <th>1</th>\n",
       "      <td>20240101</td>\n",
       "      <td>20240131</td>\n",
       "      <td>CA 0101</td>\n",
       "      <td>VACUNO CANAL</td>\n",
       "      <td>5</td>\n",
       "      <td>AVILA</td>\n",
       "      <td>21140</td>\n",
       "      <td>5,91</td>\n",
       "      <td>5,91</td>\n",
       "      <td>5,91</td>\n",
       "    </tr>\n",
       "    <tr>\n",
       "      <th>2</th>\n",
       "      <td>20240101</td>\n",
       "      <td>20240131</td>\n",
       "      <td>CA 0101</td>\n",
       "      <td>VACUNO CANAL</td>\n",
       "      <td>8</td>\n",
       "      <td>BARCELONA</td>\n",
       "      <td>137340</td>\n",
       "      <td>5,91</td>\n",
       "      <td>5,91</td>\n",
       "      <td>5,9</td>\n",
       "    </tr>\n",
       "    <tr>\n",
       "      <th>3</th>\n",
       "      <td>20240101</td>\n",
       "      <td>20240131</td>\n",
       "      <td>CA 0101</td>\n",
       "      <td>VACUNO CANAL</td>\n",
       "      <td>9</td>\n",
       "      <td>BURGOS</td>\n",
       "      <td>42456</td>\n",
       "      <td>5,9</td>\n",
       "      <td>5,91</td>\n",
       "      <td>5,89</td>\n",
       "    </tr>\n",
       "    <tr>\n",
       "      <th>4</th>\n",
       "      <td>20240101</td>\n",
       "      <td>20240131</td>\n",
       "      <td>CA 0101</td>\n",
       "      <td>VACUNO CANAL</td>\n",
       "      <td>10</td>\n",
       "      <td>CACERES</td>\n",
       "      <td>2230424</td>\n",
       "      <td>5,9</td>\n",
       "      <td>5,91</td>\n",
       "      <td>5,89</td>\n",
       "    </tr>\n",
       "  </tbody>\n",
       "</table>\n",
       "</div>"
      ],
      "text/plain": [
       "  Fecha Desde  Fecha Hasta  Código Variedad             Descripción Variedad  \\\n",
       "0    20240101     20240131          CA 0101   VACUNO CANAL                     \n",
       "1    20240101     20240131          CA 0101   VACUNO CANAL                     \n",
       "2    20240101     20240131          CA 0101   VACUNO CANAL                     \n",
       "3    20240101     20240131          CA 0101   VACUNO CANAL                     \n",
       "4    20240101     20240131          CA 0101   VACUNO CANAL                     \n",
       "\n",
       "   Origen     Descripción Origen    Kilos  Precio Más Frecuente  \\\n",
       "0       1   ALAVA                   45830                   5,9   \n",
       "1       5   AVILA                   21140                  5,91   \n",
       "2       8   BARCELONA              137340                  5,91   \n",
       "3       9   BURGOS                  42456                   5,9   \n",
       "4      10   CACERES               2230424                   5,9   \n",
       "\n",
       "   Precio Máximo  Precio Mínimo  \n",
       "0           5,91           5,89  \n",
       "1           5,91           5,91  \n",
       "2           5,91            5,9  \n",
       "3           5,91           5,89  \n",
       "4           5,91           5,89  "
      ]
     },
     "execution_count": 2,
     "metadata": {},
     "output_type": "execute_result"
    }
   ],
   "source": [
    "file_path = r\"C:\\Users\\Ivan\\Documents\\Data Analytics\\Parte 5 Proyecto y Presentación\\Sprint 10 Proyecto Final\\MERCAMADRID\\volpre2024.csv\"\n",
    "df = pd.read_csv(file_path, delimiter=';')\n",
    "df.head()\n",
    "\n",
    "# tal vez mejor trabajar con 2023 dataset"
   ]
  },
  {
   "cell_type": "markdown",
   "metadata": {},
   "source": [
    "# 1. Limpieza de datos\n"
   ]
  },
  {
   "cell_type": "code",
   "execution_count": 3,
   "metadata": {
    "tags": []
   },
   "outputs": [
    {
     "name": "stdout",
     "output_type": "stream",
     "text": [
      "<class 'pandas.core.frame.DataFrame'>\n",
      "RangeIndex: 27579 entries, 0 to 27578\n",
      "Data columns (total 10 columns):\n",
      " #   Column                 Non-Null Count  Dtype \n",
      "---  ------                 --------------  ----- \n",
      " 0   Fecha Desde            27579 non-null  object\n",
      " 1    Fecha Hasta           27579 non-null  object\n",
      " 2    Código Variedad       27579 non-null  object\n",
      " 3    Descripción Variedad  27579 non-null  object\n",
      " 4    Origen                27579 non-null  object\n",
      " 5    Descripción Origen    27579 non-null  object\n",
      " 6    Kilos                 27579 non-null  object\n",
      " 7    Precio Más Frecuente  27579 non-null  object\n",
      " 8    Precio Máximo         27579 non-null  object\n",
      " 9    Precio Mínimo         27579 non-null  object\n",
      "dtypes: object(10)\n",
      "memory usage: 2.1+ MB\n"
     ]
    }
   ],
   "source": [
    "df.info()"
   ]
  },
  {
   "cell_type": "markdown",
   "metadata": {
    "tags": []
   },
   "source": [
    "Todas las columnas estan en formato object hará falta editarlo."
   ]
  },
  {
   "cell_type": "code",
   "execution_count": 4,
   "metadata": {
    "tags": []
   },
   "outputs": [
    {
     "data": {
      "text/plain": [
       "Fecha Desde              0\n",
       " Fecha Hasta             0\n",
       " Código Variedad         0\n",
       " Descripción Variedad    0\n",
       " Origen                  0\n",
       " Descripción Origen      0\n",
       " Kilos                   0\n",
       " Precio Más Frecuente    0\n",
       " Precio Máximo           0\n",
       " Precio Mínimo           0\n",
       "dtype: int64"
      ]
     },
     "execution_count": 4,
     "metadata": {},
     "output_type": "execute_result"
    }
   ],
   "source": [
    "# Valores nulos\n",
    "null_values_count = df.isnull().sum()\n",
    "null_values_count"
   ]
  },
  {
   "cell_type": "markdown",
   "metadata": {},
   "source": [
    "No hay valores nulos"
   ]
  },
  {
   "cell_type": "code",
   "execution_count": 5,
   "metadata": {},
   "outputs": [
    {
     "data": {
      "text/plain": [
       "Index(['fecha_desde', 'fecha_hasta', 'código_variedad', 'descripción_variedad',\n",
       "       'origen', 'descripción_origen', 'kilos', 'precio_más_frecuente',\n",
       "       'precio_máximo', 'precio_mínimo'],\n",
       "      dtype='object')"
      ]
     },
     "execution_count": 5,
     "metadata": {},
     "output_type": "execute_result"
    }
   ],
   "source": [
    "# eliminar espacios en nombre de columnas\n",
    "df.columns = df.columns.str.strip().str.replace(' ', '_').str.lower()\n",
    "df.columns"
   ]
  },
  {
   "cell_type": "code",
   "execution_count": 6,
   "metadata": {
    "tags": []
   },
   "outputs": [
    {
     "name": "stdout",
     "output_type": "stream",
     "text": [
      "<class 'pandas.core.frame.DataFrame'>\n",
      "RangeIndex: 27579 entries, 0 to 27578\n",
      "Data columns (total 10 columns):\n",
      " #   Column                Non-Null Count  Dtype \n",
      "---  ------                --------------  ----- \n",
      " 0   fecha_desde           27579 non-null  object\n",
      " 1   fecha_hasta           27579 non-null  object\n",
      " 2   código_variedad       27579 non-null  object\n",
      " 3   descripción_variedad  27579 non-null  object\n",
      " 4   origen                27579 non-null  object\n",
      " 5   descripción_origen    27579 non-null  object\n",
      " 6   kilos                 27579 non-null  object\n",
      " 7   precio_más_frecuente  27579 non-null  object\n",
      " 8   precio_máximo         27579 non-null  object\n",
      " 9   precio_mínimo         27579 non-null  object\n",
      "dtypes: object(10)\n",
      "memory usage: 2.1+ MB\n"
     ]
    }
   ],
   "source": [
    "df.info()"
   ]
  },
  {
   "cell_type": "code",
   "execution_count": 7,
   "metadata": {},
   "outputs": [
    {
     "data": {
      "text/plain": [
       "0    5.90\n",
       "1    5.91\n",
       "2    5.91\n",
       "3    5.90\n",
       "4    5.90\n",
       "Name: precio_más_frecuente, dtype: float64"
      ]
     },
     "execution_count": 7,
     "metadata": {},
     "output_type": "execute_result"
    }
   ],
   "source": [
    "# Convertimos importe a float\n",
    "\n",
    "df['precio_más_frecuente'] = df['precio_más_frecuente'].astype(str).str.replace(',', '.').str.strip()\n",
    "\n",
    "df['precio_más_frecuente'] = pd.to_numeric(df['precio_más_frecuente'], errors = 'coerce') \n",
    "\n",
    "df['precio_más_frecuente'].head()\n"
   ]
  },
  {
   "cell_type": "code",
   "execution_count": 8,
   "metadata": {},
   "outputs": [
    {
     "data": {
      "text/plain": [
       "0    5.91\n",
       "1    5.91\n",
       "2    5.91\n",
       "3    5.91\n",
       "4    5.91\n",
       "Name: precio_máximo, dtype: float64"
      ]
     },
     "execution_count": 8,
     "metadata": {},
     "output_type": "execute_result"
    }
   ],
   "source": [
    "df['precio_máximo'] = df['precio_máximo'].astype(str).str.replace(',', '.').str.strip()\n",
    "\n",
    "df['precio_máximo'] = pd.to_numeric(df['precio_máximo'], errors = 'coerce')  # Tengo un valor en el 3015 nan\n",
    "\n",
    "df['precio_máximo'].head()"
   ]
  },
  {
   "cell_type": "code",
   "execution_count": 9,
   "metadata": {},
   "outputs": [
    {
     "data": {
      "text/plain": [
       "0    5.89\n",
       "1    5.91\n",
       "2    5.90\n",
       "3    5.89\n",
       "4    5.89\n",
       "Name: precio_mínimo, dtype: float64"
      ]
     },
     "execution_count": 9,
     "metadata": {},
     "output_type": "execute_result"
    }
   ],
   "source": [
    "df['precio_mínimo'] = df['precio_mínimo'].astype(str).str.replace(',', '.').str.strip()\n",
    "\n",
    "df['precio_mínimo'] = pd.to_numeric(df['precio_mínimo'], errors = 'coerce')  # Tengo un valor en el 3015 nan\n",
    "\n",
    "df['precio_mínimo'].head()"
   ]
  },
  {
   "cell_type": "code",
   "execution_count": 10,
   "metadata": {},
   "outputs": [
    {
     "data": {
      "text/html": [
       "<div>\n",
       "<style scoped>\n",
       "    .dataframe tbody tr th:only-of-type {\n",
       "        vertical-align: middle;\n",
       "    }\n",
       "\n",
       "    .dataframe tbody tr th {\n",
       "        vertical-align: top;\n",
       "    }\n",
       "\n",
       "    .dataframe thead th {\n",
       "        text-align: right;\n",
       "    }\n",
       "</style>\n",
       "<table border=\"1\" class=\"dataframe\">\n",
       "  <thead>\n",
       "    <tr style=\"text-align: right;\">\n",
       "      <th></th>\n",
       "      <th>fecha_desde</th>\n",
       "      <th>fecha_hasta</th>\n",
       "      <th>código_variedad</th>\n",
       "      <th>descripción_variedad</th>\n",
       "      <th>origen</th>\n",
       "      <th>descripción_origen</th>\n",
       "      <th>kilos</th>\n",
       "      <th>precio_más_frecuente</th>\n",
       "      <th>precio_máximo</th>\n",
       "      <th>precio_mínimo</th>\n",
       "    </tr>\n",
       "  </thead>\n",
       "  <tbody>\n",
       "    <tr>\n",
       "      <th>3015</th>\n",
       "      <td>Fecha Desde</td>\n",
       "      <td>Fecha Hasta</td>\n",
       "      <td>Código Variedad</td>\n",
       "      <td>Descripción Variedad</td>\n",
       "      <td>Origen</td>\n",
       "      <td>Descripción Origen</td>\n",
       "      <td>Kilos</td>\n",
       "      <td>NaN</td>\n",
       "      <td>NaN</td>\n",
       "      <td>NaN</td>\n",
       "    </tr>\n",
       "    <tr>\n",
       "      <th>5767</th>\n",
       "      <td>Fecha Desde</td>\n",
       "      <td>Fecha Hasta</td>\n",
       "      <td>Código Variedad</td>\n",
       "      <td>Descripción Variedad</td>\n",
       "      <td>Origen</td>\n",
       "      <td>Descripción Origen</td>\n",
       "      <td>Kilos</td>\n",
       "      <td>NaN</td>\n",
       "      <td>NaN</td>\n",
       "      <td>NaN</td>\n",
       "    </tr>\n",
       "    <tr>\n",
       "      <th>8641</th>\n",
       "      <td>Fecha Desde</td>\n",
       "      <td>Fecha Hasta</td>\n",
       "      <td>Código Variedad</td>\n",
       "      <td>Descripción Variedad</td>\n",
       "      <td>Origen</td>\n",
       "      <td>Descripción Origen</td>\n",
       "      <td>Kilos</td>\n",
       "      <td>NaN</td>\n",
       "      <td>NaN</td>\n",
       "      <td>NaN</td>\n",
       "    </tr>\n",
       "    <tr>\n",
       "      <th>11701</th>\n",
       "      <td>Fecha Desde</td>\n",
       "      <td>Fecha Hasta</td>\n",
       "      <td>Código Variedad</td>\n",
       "      <td>Descripción Variedad</td>\n",
       "      <td>Origen</td>\n",
       "      <td>Descripción Origen</td>\n",
       "      <td>Kilos</td>\n",
       "      <td>NaN</td>\n",
       "      <td>NaN</td>\n",
       "      <td>NaN</td>\n",
       "    </tr>\n",
       "    <tr>\n",
       "      <th>14774</th>\n",
       "      <td>Fecha Desde</td>\n",
       "      <td>Fecha Hasta</td>\n",
       "      <td>Código Variedad</td>\n",
       "      <td>Descripción Variedad</td>\n",
       "      <td>Origen</td>\n",
       "      <td>Descripción Origen</td>\n",
       "      <td>Kilos</td>\n",
       "      <td>NaN</td>\n",
       "      <td>NaN</td>\n",
       "      <td>NaN</td>\n",
       "    </tr>\n",
       "    <tr>\n",
       "      <th>17979</th>\n",
       "      <td>Fecha Desde</td>\n",
       "      <td>Fecha Hasta</td>\n",
       "      <td>Código Variedad</td>\n",
       "      <td>Descripción Variedad</td>\n",
       "      <td>Origen</td>\n",
       "      <td>Descripción Origen</td>\n",
       "      <td>Kilos</td>\n",
       "      <td>NaN</td>\n",
       "      <td>NaN</td>\n",
       "      <td>NaN</td>\n",
       "    </tr>\n",
       "    <tr>\n",
       "      <th>21197</th>\n",
       "      <td>Fecha Desde</td>\n",
       "      <td>Fecha Hasta</td>\n",
       "      <td>Código Variedad</td>\n",
       "      <td>Descripción Variedad</td>\n",
       "      <td>Origen</td>\n",
       "      <td>Descripción Origen</td>\n",
       "      <td>Kilos</td>\n",
       "      <td>NaN</td>\n",
       "      <td>NaN</td>\n",
       "      <td>NaN</td>\n",
       "    </tr>\n",
       "    <tr>\n",
       "      <th>24225</th>\n",
       "      <td>Fecha Desde</td>\n",
       "      <td>Fecha Hasta</td>\n",
       "      <td>Código Variedad</td>\n",
       "      <td>Descripción Variedad</td>\n",
       "      <td>Origen</td>\n",
       "      <td>Descripción Origen</td>\n",
       "      <td>Kilos</td>\n",
       "      <td>NaN</td>\n",
       "      <td>NaN</td>\n",
       "      <td>NaN</td>\n",
       "    </tr>\n",
       "  </tbody>\n",
       "</table>\n",
       "</div>"
      ],
      "text/plain": [
       "       fecha_desde   fecha_hasta   código_variedad   descripción_variedad  \\\n",
       "3015   Fecha Desde   Fecha Hasta   Código Variedad   Descripción Variedad   \n",
       "5767   Fecha Desde   Fecha Hasta   Código Variedad   Descripción Variedad   \n",
       "8641   Fecha Desde   Fecha Hasta   Código Variedad   Descripción Variedad   \n",
       "11701  Fecha Desde   Fecha Hasta   Código Variedad   Descripción Variedad   \n",
       "14774  Fecha Desde   Fecha Hasta   Código Variedad   Descripción Variedad   \n",
       "17979  Fecha Desde   Fecha Hasta   Código Variedad   Descripción Variedad   \n",
       "21197  Fecha Desde   Fecha Hasta   Código Variedad   Descripción Variedad   \n",
       "24225  Fecha Desde   Fecha Hasta   Código Variedad   Descripción Variedad   \n",
       "\n",
       "        origen   descripción_origen   kilos  precio_más_frecuente  \\\n",
       "3015    Origen   Descripción Origen   Kilos                   NaN   \n",
       "5767    Origen   Descripción Origen   Kilos                   NaN   \n",
       "8641    Origen   Descripción Origen   Kilos                   NaN   \n",
       "11701   Origen   Descripción Origen   Kilos                   NaN   \n",
       "14774   Origen   Descripción Origen   Kilos                   NaN   \n",
       "17979   Origen   Descripción Origen   Kilos                   NaN   \n",
       "21197   Origen   Descripción Origen   Kilos                   NaN   \n",
       "24225   Origen   Descripción Origen   Kilos                   NaN   \n",
       "\n",
       "       precio_máximo  precio_mínimo  \n",
       "3015             NaN            NaN  \n",
       "5767             NaN            NaN  \n",
       "8641             NaN            NaN  \n",
       "11701            NaN            NaN  \n",
       "14774            NaN            NaN  \n",
       "17979            NaN            NaN  \n",
       "21197            NaN            NaN  \n",
       "24225            NaN            NaN  "
      ]
     },
     "execution_count": 10,
     "metadata": {},
     "output_type": "execute_result"
    }
   ],
   "source": [
    "df[df.isnull().any(axis=1)]  # me replicaron los encabezados"
   ]
  },
  {
   "cell_type": "code",
   "execution_count": 11,
   "metadata": {
    "tags": []
   },
   "outputs": [
    {
     "data": {
      "text/plain": [
       "fecha_desde             0\n",
       "fecha_hasta             0\n",
       "código_variedad         0\n",
       "descripción_variedad    0\n",
       "origen                  0\n",
       "descripción_origen      0\n",
       "kilos                   0\n",
       "precio_más_frecuente    8\n",
       "precio_máximo           8\n",
       "precio_mínimo           8\n",
       "dtype: int64"
      ]
     },
     "execution_count": 11,
     "metadata": {},
     "output_type": "execute_result"
    }
   ],
   "source": [
    "null_values_count = df.isnull().sum()\n",
    "null_values_count\n"
   ]
  },
  {
   "cell_type": "code",
   "execution_count": 12,
   "metadata": {},
   "outputs": [],
   "source": [
    "# Eliminar filas con nulos\n",
    "df = df[df.notnull()]"
   ]
  },
  {
   "cell_type": "code",
   "execution_count": 13,
   "metadata": {},
   "outputs": [
    {
     "data": {
      "text/plain": [
       "fecha_desde             0\n",
       "fecha_hasta             0\n",
       "código_variedad         0\n",
       "descripción_variedad    0\n",
       "origen                  0\n",
       "descripción_origen      0\n",
       "kilos                   0\n",
       "precio_más_frecuente    8\n",
       "precio_máximo           8\n",
       "precio_mínimo           8\n",
       "dtype: int64"
      ]
     },
     "execution_count": 13,
     "metadata": {},
     "output_type": "execute_result"
    }
   ],
   "source": [
    "# comprobación que se eliminaron las filas con nulos\n",
    "null_values_count = df.isnull().sum() \n",
    "null_values_count"
   ]
  },
  {
   "cell_type": "code",
   "execution_count": 14,
   "metadata": {},
   "outputs": [
    {
     "data": {
      "text/plain": [
       "np.True_"
      ]
     },
     "execution_count": 14,
     "metadata": {},
     "output_type": "execute_result"
    }
   ],
   "source": [
    "(df['precio_más_frecuente'] == 0).any()  # Aqui le pregunto si hay algun valor = 0 me dice que si"
   ]
  },
  {
   "cell_type": "code",
   "execution_count": 15,
   "metadata": {},
   "outputs": [
    {
     "name": "stdout",
     "output_type": "stream",
     "text": [
      "<class 'pandas.core.frame.DataFrame'>\n",
      "RangeIndex: 27579 entries, 0 to 27578\n",
      "Data columns (total 10 columns):\n",
      " #   Column                Non-Null Count  Dtype  \n",
      "---  ------                --------------  -----  \n",
      " 0   fecha_desde           27579 non-null  object \n",
      " 1   fecha_hasta           27579 non-null  object \n",
      " 2   código_variedad       27579 non-null  object \n",
      " 3   descripción_variedad  27579 non-null  object \n",
      " 4   origen                27579 non-null  object \n",
      " 5   descripción_origen    27579 non-null  object \n",
      " 6   kilos                 27579 non-null  object \n",
      " 7   precio_más_frecuente  27571 non-null  float64\n",
      " 8   precio_máximo         27571 non-null  float64\n",
      " 9   precio_mínimo         27571 non-null  float64\n",
      "dtypes: float64(3), object(7)\n",
      "memory usage: 2.1+ MB\n"
     ]
    }
   ],
   "source": [
    "df.info()"
   ]
  },
  {
   "cell_type": "code",
   "execution_count": 16,
   "metadata": {},
   "outputs": [
    {
     "name": "stdout",
     "output_type": "stream",
     "text": [
      "<class 'pandas.core.series.Series'>\n",
      "RangeIndex: 27579 entries, 0 to 27578\n",
      "Series name: kilos\n",
      "Non-Null Count  Dtype \n",
      "--------------  ----- \n",
      "27579 non-null  object\n",
      "dtypes: object(1)\n",
      "memory usage: 215.6+ KB\n"
     ]
    }
   ],
   "source": [
    "# Transformación kilos a formato integer\n",
    "df['kilos'].info()\n",
    "\n",
    "# primero es necesario transformarlo en float dado que INT no admite Nan(nulos)\n",
    "df['kilos'] = pd.to_numeric(df['kilos'], errors = 'coerce').astype(float) \n",
    "\n",
    "# eliminación de nulos\n",
    "df = df.dropna()\n",
    "# df['kilos'] = df['kilos'].dropna() no me funcionaba eliminar solo de una columna\n",
    "\n"
   ]
  },
  {
   "cell_type": "code",
   "execution_count": 17,
   "metadata": {},
   "outputs": [
    {
     "data": {
      "text/html": [
       "<div>\n",
       "<style scoped>\n",
       "    .dataframe tbody tr th:only-of-type {\n",
       "        vertical-align: middle;\n",
       "    }\n",
       "\n",
       "    .dataframe tbody tr th {\n",
       "        vertical-align: top;\n",
       "    }\n",
       "\n",
       "    .dataframe thead th {\n",
       "        text-align: right;\n",
       "    }\n",
       "</style>\n",
       "<table border=\"1\" class=\"dataframe\">\n",
       "  <thead>\n",
       "    <tr style=\"text-align: right;\">\n",
       "      <th></th>\n",
       "      <th>fecha_desde</th>\n",
       "      <th>fecha_hasta</th>\n",
       "      <th>código_variedad</th>\n",
       "      <th>descripción_variedad</th>\n",
       "      <th>origen</th>\n",
       "      <th>descripción_origen</th>\n",
       "      <th>kilos</th>\n",
       "      <th>precio_más_frecuente</th>\n",
       "      <th>precio_máximo</th>\n",
       "      <th>precio_mínimo</th>\n",
       "    </tr>\n",
       "  </thead>\n",
       "  <tbody>\n",
       "  </tbody>\n",
       "</table>\n",
       "</div>"
      ],
      "text/plain": [
       "Empty DataFrame\n",
       "Columns: [fecha_desde, fecha_hasta, código_variedad, descripción_variedad, origen, descripción_origen, kilos, precio_más_frecuente, precio_máximo, precio_mínimo]\n",
       "Index: []"
      ]
     },
     "execution_count": 17,
     "metadata": {},
     "output_type": "execute_result"
    }
   ],
   "source": [
    "# Comprobación\n",
    "df['kilos'].isnull().sum()\n",
    "df[df.isnull().any(axis=1)]"
   ]
  },
  {
   "cell_type": "code",
   "execution_count": 18,
   "metadata": {},
   "outputs": [
    {
     "name": "stdout",
     "output_type": "stream",
     "text": [
      "<class 'pandas.core.series.Series'>\n",
      "Index: 27571 entries, 0 to 27578\n",
      "Series name: kilos\n",
      "Non-Null Count  Dtype\n",
      "--------------  -----\n",
      "27571 non-null  int64\n",
      "dtypes: int64(1)\n",
      "memory usage: 430.8 KB\n",
      "None\n",
      "______________\n",
      "0      45830\n",
      "1      21140\n",
      "2     137340\n",
      "3      42456\n",
      "4    2230424\n",
      "Name: kilos, dtype: int64\n"
     ]
    }
   ],
   "source": [
    "# Transformación definitiva a INT\n",
    "df['kilos'] = df['kilos'].astype(int)\n",
    "print(df['kilos'].info())\n",
    "print('______________')\n",
    "print(df['kilos'].head())"
   ]
  },
  {
   "cell_type": "code",
   "execution_count": 19,
   "metadata": {},
   "outputs": [
    {
     "data": {
      "text/html": [
       "<div>\n",
       "<style scoped>\n",
       "    .dataframe tbody tr th:only-of-type {\n",
       "        vertical-align: middle;\n",
       "    }\n",
       "\n",
       "    .dataframe tbody tr th {\n",
       "        vertical-align: top;\n",
       "    }\n",
       "\n",
       "    .dataframe thead th {\n",
       "        text-align: right;\n",
       "    }\n",
       "</style>\n",
       "<table border=\"1\" class=\"dataframe\">\n",
       "  <thead>\n",
       "    <tr style=\"text-align: right;\">\n",
       "      <th></th>\n",
       "      <th>fecha_desde</th>\n",
       "      <th>fecha_hasta</th>\n",
       "      <th>código_variedad</th>\n",
       "      <th>descripción_variedad</th>\n",
       "      <th>origen</th>\n",
       "      <th>descripción_origen</th>\n",
       "      <th>kilos</th>\n",
       "      <th>precio_más_frecuente</th>\n",
       "      <th>precio_máximo</th>\n",
       "      <th>precio_mínimo</th>\n",
       "    </tr>\n",
       "  </thead>\n",
       "  <tbody>\n",
       "    <tr>\n",
       "      <th>0</th>\n",
       "      <td>20240101</td>\n",
       "      <td>20240131</td>\n",
       "      <td>CA 0101</td>\n",
       "      <td>VACUNO CANAL</td>\n",
       "      <td>1</td>\n",
       "      <td>ALAVA</td>\n",
       "      <td>45830</td>\n",
       "      <td>5.90</td>\n",
       "      <td>5.91</td>\n",
       "      <td>5.89</td>\n",
       "    </tr>\n",
       "    <tr>\n",
       "      <th>1</th>\n",
       "      <td>20240101</td>\n",
       "      <td>20240131</td>\n",
       "      <td>CA 0101</td>\n",
       "      <td>VACUNO CANAL</td>\n",
       "      <td>5</td>\n",
       "      <td>AVILA</td>\n",
       "      <td>21140</td>\n",
       "      <td>5.91</td>\n",
       "      <td>5.91</td>\n",
       "      <td>5.91</td>\n",
       "    </tr>\n",
       "    <tr>\n",
       "      <th>2</th>\n",
       "      <td>20240101</td>\n",
       "      <td>20240131</td>\n",
       "      <td>CA 0101</td>\n",
       "      <td>VACUNO CANAL</td>\n",
       "      <td>8</td>\n",
       "      <td>BARCELONA</td>\n",
       "      <td>137340</td>\n",
       "      <td>5.91</td>\n",
       "      <td>5.91</td>\n",
       "      <td>5.90</td>\n",
       "    </tr>\n",
       "    <tr>\n",
       "      <th>3</th>\n",
       "      <td>20240101</td>\n",
       "      <td>20240131</td>\n",
       "      <td>CA 0101</td>\n",
       "      <td>VACUNO CANAL</td>\n",
       "      <td>9</td>\n",
       "      <td>BURGOS</td>\n",
       "      <td>42456</td>\n",
       "      <td>5.90</td>\n",
       "      <td>5.91</td>\n",
       "      <td>5.89</td>\n",
       "    </tr>\n",
       "    <tr>\n",
       "      <th>4</th>\n",
       "      <td>20240101</td>\n",
       "      <td>20240131</td>\n",
       "      <td>CA 0101</td>\n",
       "      <td>VACUNO CANAL</td>\n",
       "      <td>10</td>\n",
       "      <td>CACERES</td>\n",
       "      <td>2230424</td>\n",
       "      <td>5.90</td>\n",
       "      <td>5.91</td>\n",
       "      <td>5.89</td>\n",
       "    </tr>\n",
       "  </tbody>\n",
       "</table>\n",
       "</div>"
      ],
      "text/plain": [
       "  fecha_desde fecha_hasta código_variedad             descripción_variedad  \\\n",
       "0    20240101    20240131         CA 0101   VACUNO CANAL                     \n",
       "1    20240101    20240131         CA 0101   VACUNO CANAL                     \n",
       "2    20240101    20240131         CA 0101   VACUNO CANAL                     \n",
       "3    20240101    20240131         CA 0101   VACUNO CANAL                     \n",
       "4    20240101    20240131         CA 0101   VACUNO CANAL                     \n",
       "\n",
       "  origen     descripción_origen    kilos  precio_más_frecuente  precio_máximo  \\\n",
       "0      1   ALAVA                   45830                  5.90           5.91   \n",
       "1      5   AVILA                   21140                  5.91           5.91   \n",
       "2      8   BARCELONA              137340                  5.91           5.91   \n",
       "3      9   BURGOS                  42456                  5.90           5.91   \n",
       "4     10   CACERES               2230424                  5.90           5.91   \n",
       "\n",
       "   precio_mínimo  \n",
       "0           5.89  \n",
       "1           5.91  \n",
       "2           5.90  \n",
       "3           5.89  \n",
       "4           5.89  "
      ]
     },
     "execution_count": 19,
     "metadata": {},
     "output_type": "execute_result"
    }
   ],
   "source": [
    "df.head()"
   ]
  },
  {
   "cell_type": "markdown",
   "metadata": {},
   "source": [
    "## EN LA FILA 3015 AL CAMBIAR FORMATO SIEMPRE DA PROBLEMAS PORQUE ES EL ENCABEZADO DUPLICADO"
   ]
  },
  {
   "cell_type": "code",
   "execution_count": 20,
   "metadata": {},
   "outputs": [
    {
     "data": {
      "text/plain": [
       "0       2024-01-01\n",
       "1       2024-01-01\n",
       "2       2024-01-01\n",
       "3       2024-01-01\n",
       "4       2024-01-01\n",
       "           ...    \n",
       "27574   2024-09-01\n",
       "27575   2024-09-01\n",
       "27576   2024-09-01\n",
       "27577   2024-09-01\n",
       "27578   2024-09-01\n",
       "Name: fecha_desde, Length: 27571, dtype: datetime64[ns]"
      ]
     },
     "execution_count": 20,
     "metadata": {},
     "output_type": "execute_result"
    }
   ],
   "source": [
    "# Convertir fecha a formato date\n",
    "df['fecha_desde'] = pd.to_datetime(df['fecha_desde'])\n",
    "df['fecha_hasta'] = pd.to_datetime(df['fecha_hasta'])\n",
    "\n",
    "df['fecha_desde']"
   ]
  },
  {
   "cell_type": "code",
   "execution_count": 21,
   "metadata": {},
   "outputs": [],
   "source": [
    "# Crear columna de variación de precios en el periodo trimestral\n",
    "df['var_precios'] = df['precio_máximo']-df['precio_mínimo']"
   ]
  },
  {
   "cell_type": "code",
   "execution_count": 22,
   "metadata": {},
   "outputs": [
    {
     "data": {
      "text/html": [
       "<div>\n",
       "<style scoped>\n",
       "    .dataframe tbody tr th:only-of-type {\n",
       "        vertical-align: middle;\n",
       "    }\n",
       "\n",
       "    .dataframe tbody tr th {\n",
       "        vertical-align: top;\n",
       "    }\n",
       "\n",
       "    .dataframe thead th {\n",
       "        text-align: right;\n",
       "    }\n",
       "</style>\n",
       "<table border=\"1\" class=\"dataframe\">\n",
       "  <thead>\n",
       "    <tr style=\"text-align: right;\">\n",
       "      <th></th>\n",
       "      <th>fecha_desde</th>\n",
       "      <th>fecha_hasta</th>\n",
       "      <th>código_variedad</th>\n",
       "      <th>descripción_variedad</th>\n",
       "      <th>origen</th>\n",
       "      <th>descripción_origen</th>\n",
       "      <th>kilos</th>\n",
       "      <th>precio_más_frecuente</th>\n",
       "      <th>precio_máximo</th>\n",
       "      <th>precio_mínimo</th>\n",
       "      <th>var_precios</th>\n",
       "    </tr>\n",
       "  </thead>\n",
       "  <tbody>\n",
       "    <tr>\n",
       "      <th>0</th>\n",
       "      <td>2024-01-01</td>\n",
       "      <td>2024-01-31</td>\n",
       "      <td>CA 0101</td>\n",
       "      <td>VACUNO CANAL</td>\n",
       "      <td>1</td>\n",
       "      <td>ALAVA</td>\n",
       "      <td>45830</td>\n",
       "      <td>5.90</td>\n",
       "      <td>5.91</td>\n",
       "      <td>5.89</td>\n",
       "      <td>0.02</td>\n",
       "    </tr>\n",
       "    <tr>\n",
       "      <th>1</th>\n",
       "      <td>2024-01-01</td>\n",
       "      <td>2024-01-31</td>\n",
       "      <td>CA 0101</td>\n",
       "      <td>VACUNO CANAL</td>\n",
       "      <td>5</td>\n",
       "      <td>AVILA</td>\n",
       "      <td>21140</td>\n",
       "      <td>5.91</td>\n",
       "      <td>5.91</td>\n",
       "      <td>5.91</td>\n",
       "      <td>0.00</td>\n",
       "    </tr>\n",
       "    <tr>\n",
       "      <th>2</th>\n",
       "      <td>2024-01-01</td>\n",
       "      <td>2024-01-31</td>\n",
       "      <td>CA 0101</td>\n",
       "      <td>VACUNO CANAL</td>\n",
       "      <td>8</td>\n",
       "      <td>BARCELONA</td>\n",
       "      <td>137340</td>\n",
       "      <td>5.91</td>\n",
       "      <td>5.91</td>\n",
       "      <td>5.90</td>\n",
       "      <td>0.01</td>\n",
       "    </tr>\n",
       "    <tr>\n",
       "      <th>3</th>\n",
       "      <td>2024-01-01</td>\n",
       "      <td>2024-01-31</td>\n",
       "      <td>CA 0101</td>\n",
       "      <td>VACUNO CANAL</td>\n",
       "      <td>9</td>\n",
       "      <td>BURGOS</td>\n",
       "      <td>42456</td>\n",
       "      <td>5.90</td>\n",
       "      <td>5.91</td>\n",
       "      <td>5.89</td>\n",
       "      <td>0.02</td>\n",
       "    </tr>\n",
       "    <tr>\n",
       "      <th>4</th>\n",
       "      <td>2024-01-01</td>\n",
       "      <td>2024-01-31</td>\n",
       "      <td>CA 0101</td>\n",
       "      <td>VACUNO CANAL</td>\n",
       "      <td>10</td>\n",
       "      <td>CACERES</td>\n",
       "      <td>2230424</td>\n",
       "      <td>5.90</td>\n",
       "      <td>5.91</td>\n",
       "      <td>5.89</td>\n",
       "      <td>0.02</td>\n",
       "    </tr>\n",
       "  </tbody>\n",
       "</table>\n",
       "</div>"
      ],
      "text/plain": [
       "  fecha_desde fecha_hasta código_variedad             descripción_variedad  \\\n",
       "0  2024-01-01  2024-01-31         CA 0101   VACUNO CANAL                     \n",
       "1  2024-01-01  2024-01-31         CA 0101   VACUNO CANAL                     \n",
       "2  2024-01-01  2024-01-31         CA 0101   VACUNO CANAL                     \n",
       "3  2024-01-01  2024-01-31         CA 0101   VACUNO CANAL                     \n",
       "4  2024-01-01  2024-01-31         CA 0101   VACUNO CANAL                     \n",
       "\n",
       "  origen     descripción_origen    kilos  precio_más_frecuente  precio_máximo  \\\n",
       "0      1   ALAVA                   45830                  5.90           5.91   \n",
       "1      5   AVILA                   21140                  5.91           5.91   \n",
       "2      8   BARCELONA              137340                  5.91           5.91   \n",
       "3      9   BURGOS                  42456                  5.90           5.91   \n",
       "4     10   CACERES               2230424                  5.90           5.91   \n",
       "\n",
       "   precio_mínimo  var_precios  \n",
       "0           5.89         0.02  \n",
       "1           5.91         0.00  \n",
       "2           5.90         0.01  \n",
       "3           5.89         0.02  \n",
       "4           5.89         0.02  "
      ]
     },
     "execution_count": 22,
     "metadata": {},
     "output_type": "execute_result"
    }
   ],
   "source": [
    "df.head()"
   ]
  },
  {
   "cell_type": "code",
   "execution_count": 23,
   "metadata": {},
   "outputs": [
    {
     "data": {
      "text/plain": [
       "538"
      ]
     },
     "execution_count": 23,
     "metadata": {},
     "output_type": "execute_result"
    }
   ],
   "source": [
    "# Conocer todas las variedades que se venden\n",
    "df['descripción_variedad'].nunique()"
   ]
  },
  {
   "cell_type": "code",
   "execution_count": 24,
   "metadata": {},
   "outputs": [],
   "source": [
    "# Separar nombre de producto\n",
    "df['descripción_variedad'] = df['descripción_variedad'].str.strip()"
   ]
  },
  {
   "cell_type": "code",
   "execution_count": 25,
   "metadata": {},
   "outputs": [],
   "source": [
    "# Creo columna trimestre con lambda\n",
    "df['trimestre'] = df['fecha_desde'].apply(\n",
    "    lambda x: 1 if x.month < 4 else\n",
    "              2 if x.month < 7 else\n",
    "              3 if x.month < 10 else\n",
    "              4\n",
    ")"
   ]
  },
  {
   "cell_type": "code",
   "execution_count": 26,
   "metadata": {
    "tags": []
   },
   "outputs": [],
   "source": [
    "# lo mismo pero con comprehensive\n",
    "df['trimestre'] = [\n",
    "    1 if value.month < 4 else    \n",
    "    2 if value.month < 7 else   \n",
    "    3 if value.month < 10 else   \n",
    "    4 for value in df['fecha_desde']\n",
    "]"
   ]
  },
  {
   "cell_type": "code",
   "execution_count": 27,
   "metadata": {
    "tags": []
   },
   "outputs": [
    {
     "data": {
      "text/plain": [
       "trimestre\n",
       "1    739479675\n",
       "2    878514772\n",
       "3    763296447\n",
       "Name: kilos, dtype: int64"
      ]
     },
     "execution_count": 27,
     "metadata": {},
     "output_type": "execute_result"
    }
   ],
   "source": [
    "kil_tri = df.groupby('trimestre')['kilos'].sum()\n",
    "kil_tri"
   ]
  },
  {
   "cell_type": "code",
   "execution_count": 28,
   "metadata": {},
   "outputs": [
    {
     "data": {
      "text/plain": [
       "array(['VACUNO CANAL', 'VACUNO DESPIECE AÑOJO', 'VACUNO DESPIECE VACA',\n",
       "       'VACUNO CASQUERIA', 'VACUNO FRESCO SIN ESPECIF', 'OVINO CANAL',\n",
       "       'OVINO DESPIECE', 'OVINO FRESCO SIN ESPECIF.', 'PORCINO CANAL',\n",
       "       'PORCINO DESPIECE', 'PORCINO CASQUERIA', 'PORCINO ELABORADO',\n",
       "       'PORCINO PRECOCINADO', 'PORCINO FRESCO SIN ESPECI', 'HUEVOS',\n",
       "       'POLLO', 'PAVO', 'CODORNIZ', 'CONEJO', 'AVICOLA ELABORADO',\n",
       "       'AGUACATE HASS', 'ALBARICOQUE COMUN', 'CAQUIS',\n",
       "       'CAQUI ROJO BRILLANTE', 'CAQUI SHARON', 'CASTAÑA NACIONAL',\n",
       "       'CEREZAS O.V.', 'CIRUELAS GOLDEN', 'CIRUELAS MORADAS', 'COCOS',\n",
       "       'CHIRIMOYAS', 'DATILES', 'DATIL MEDJOUL', 'FRESON', 'GRANADAS',\n",
       "       'HIGOS SECOS NACIONALES', 'LIMON PRIMAFIORI',\n",
       "       'MANDARINAS CLEMENULES', 'MANDARINAS CLEMENVILLES',\n",
       "       'MANDARINA NADORCOTT', 'MANDARINA ORRI', 'MANZANAS GOLDEN',\n",
       "       'MANZANAS STARKING', 'MANZANAS REINETA', 'MANZANAS VERDE DONCELLA',\n",
       "       'MANZANA GRANNY SMITH', 'MANZANA ROYAL GALA', 'MANZANA FUJI',\n",
       "       'MANZANA PINK LADY', 'MELOCOTON ROJO', 'MELONES PIEL DE SAPO',\n",
       "       'MELONES CANTALOUP', 'MELONES GALIA', 'MEMBRILLOS',\n",
       "       'NARANJAS NAVEL', 'NARANJA NAVELINA', 'NARANJA SALUSTIANA',\n",
       "       'NARANJA SANGUINA', 'NARANJA NAVEL LATE', 'NARANJA LANE LATE',\n",
       "       'NECTARINA CARNE AMARILLA', 'NUECES', 'PERAS ERCOLINI',\n",
       "       'PERAS BLANQUILLAS', 'PERAS PASSA CRASSANA',\n",
       "       'PERAS DOYAN DE COMICE', 'PERAS CONFERENCE', 'PIÑA GOLDEN SWEET',\n",
       "       'PLATANOS EXTRA', 'PLATANO IMPORT. O BANANA', 'PLATANO MACHO',\n",
       "       'POMELO ROJO', 'SANDIA CON SEMILLA', 'SANDIA SIN SEMILLA',\n",
       "       'UVA ALEDO', 'UVA RED GLOBER', 'UVA DOMINGA',\n",
       "       'UVA SIN SEMILLA BLANCA', 'UVA SIN SEMILLA NEGRA', 'ACEITUNAS',\n",
       "       'PAPAYA O.V.', 'GUAYABOS', 'MANGOS', 'KIWI KIWIGOLD',\n",
       "       'KIWI PULPA VERDE', 'FRAMBUESAS', 'PITAHAYA AMARILLA',\n",
       "       'PITAHAYA ROJA', 'LIMA', 'OCRA', 'PAPAYA GIGANTE', 'LITCHIS',\n",
       "       'GROSELLA ROJA', 'MORAS', 'CACAHUETE CON SAL', 'CACAHUETE SIN SAL',\n",
       "       'PANCHITO CON PIEL', 'PANCHITO SIN PIEL', 'PISTACHO IRANI',\n",
       "       'ALMENDRA LARGUETA TOSTADA', 'ARÁNDANOS', 'ACELGAS', 'AJOS SECOS',\n",
       "       'AJO TIERNO', 'ALCACHOFAS DE LEVANTE', 'APIO VERDE', 'APIONABO',\n",
       "       'BERENJENAS MORADAS', 'BONIATOS', 'CALABACIN VERDE',\n",
       "       'CALABAZAS VIOLIN', 'CALABAZA O.V.', 'CARDOS',\n",
       "       'CEBOLLA GRANO DE ORO', 'CEBOLLA MORADA', 'CEBOLLA TIERNA',\n",
       "       'CEBOLLA BLANCA DULCE', 'CEBOLLA FRANCESA/ECHALOTE',\n",
       "       'CEBOLLA CALÇOTS', 'COLES-REPOLLO', 'COL CHINA',\n",
       "       'COLES DE BRUSELAS', 'COLIFLOR', 'CHAMPIÑON', 'CHIRIVIAS',\n",
       "       'ENDIVIA', 'ACHICORIA', 'ESCAROLAS', 'ESPARRAGOS BLANCOS',\n",
       "       'ESPARRAGO VERDE', 'ESPINACAS', 'GUISANTES', 'HABAS VERDES',\n",
       "       'JUDIAS VERDES GARRAFAL', 'JUDIA VERDE BOBY', 'JUDIA VERDE HELDA',\n",
       "       'LECHUGAS ROMANAS', 'LECHUGAS ICEBERG', 'LECHUGA TROCADERO',\n",
       "       'LECHUGA HOJA DE ROBLE', 'LECHUGA BATAVIA', 'LECHUGA LOLLO ROSSO',\n",
       "       'COL LOMBARDA', 'NABOS', 'PEPINO CORTO TIPO ESPAÑOL', 'PEREJIL',\n",
       "       'PIMIENTO VERDE ITALIANO', 'PIMIENTOS ROJOS', 'PIMIENTO DE PADRON',\n",
       "       'PIMIENTOS LAMUYOS', 'PUERROS', 'RABANOS', 'REMOLACHA',\n",
       "       'SETAS DE CULTIVO', 'SETAS NISCALOS', 'SETA SHII-TAKE',\n",
       "       'SETA DE CARDO', 'TOMATE RAF', 'TOMATE PERA', 'TOMATE MAZARRON',\n",
       "       'TOMATE DANIELA', 'TOMATE EN RAMA', 'TOMATE CHERRY',\n",
       "       'TOMATE KUMATO', 'ZANAHORIAS O CARLOTA NANT', 'ZANAHORIA EN RAMA',\n",
       "       'BATATAS YEMA DE HUEVO', 'GRELOS', 'GUINDILLAS ROJAS',\n",
       "       'GUINDILLAS VERDES', 'BORRAJAS O.V.', 'LAUREL', 'BROCOLI', 'YUCA',\n",
       "       'MAIZ', 'JENGIBRE', 'YAME O ÑAME', 'CUARTA GAMA HORTALIZAS',\n",
       "       'QUINTA GAMA HORTALIZAS', 'CONSERVAS VEGETALES',\n",
       "       'CONGELADOS VEGEALES', 'ELABORADOS VEGETALES', 'CEBOLLINO',\n",
       "       'GERMINADOS', 'MICROVEGETALES', 'EDDO', 'FLORES COMESTIBLES',\n",
       "       'HIERBAS AROMÁTICAS', 'PAK CHOI', 'PATATA BLANCA', 'PATATA ROJA',\n",
       "       'PATATA NUEVA', 'PATATA MONA LISA GRANEL', 'PATATA AGRIA GRANEL',\n",
       "       'PATATA MONA LISA CONFECCI', 'ACEDIAS', 'ANCHOAS',\n",
       "       'ATUN ROJO CIMARRON', 'ATUN CLARO O RABIL', 'BACALAO FILETE',\n",
       "       'BACALAO SALADO', 'BACALAO ENTERO S/C 4/6 KG',\n",
       "       'BESUGO DE 0,7 A 1 KG', 'BESUGO DE 1 A 1,5 KG.',\n",
       "       'BESUGO PANCHO 0,5 A 0,6 K', 'BOGAS', 'BOQUERON NACIONAL GRANDE',\n",
       "       'BOQUERON NCNAL.TERCIADO', 'BOQUERON ITALIAN.TERCIADO',\n",
       "       'BOQUERON PORTUGUES', 'BONITO S/C.', 'BONITO C/C.', 'BRECAS',\n",
       "       'CALAMAR', 'CAZON', 'DORADA DE CAPTURA',\n",
       "       'DORADA ACUIC. MÁS 600 GR', 'DORADA ACUIC. 400-600 GR',\n",
       "       'DORADA ACUIC. 300-400 GR', 'FANECAS', 'GALLO GRANDE',\n",
       "       'GALLO MEDIANO', 'GALLO PEQUEÑO', 'HUEVAS', 'JUREL MEDIANO',\n",
       "       'JUREL PEQUEÑO', 'LENGUADO GRANDE', 'LENGUADO MEDIANO',\n",
       "       'LENGUADO PEQUEÑO', 'LENGUADO ACUICULTURA', 'LIBA', 'LIRIO',\n",
       "       'MERLUZA PINCHO +2,5-5 KG.', 'MERLUZA GRAN SOL +2,5-5KG',\n",
       "       'MERLUZA PINCHO +5 KG.', 'MERLUZA GRAN SOL +5 KG.',\n",
       "       'MERLUZA DE CHILE', 'PALOMETA-JAPUTA', 'PESCADILLA PINCHO +1 KG.',\n",
       "       'PESCADILLA POPUL.0,2/0,8K', 'PESCAD. FINA G.SOL -0,2 K',\n",
       "       'PESCADILLA G.SOL DE +1 KG', 'PESCADILLA NEGRA 0,2 A 1K',\n",
       "       'PESCADILLA TRIPA 0,2/0,3K', 'PEZ ESPADA', 'COCOCHAS DE MERLUZA',\n",
       "       'COCOCHAS DE BACALAO', 'COCOCHA DE RAPE', 'PULPO GRANDE',\n",
       "       'PULPO COCIDO', 'PULPO MEDIANO', 'PULPO PEQUEÑO', 'RAPE COLAS',\n",
       "       'RAPE C/C.', 'RAYA', 'MENDOS', 'TINTORERA',\n",
       "       'BACALADILLA-LIRIO GRANDE', 'JIBIA O SEPIA FRESCA GRAN', 'ALIGOTE',\n",
       "       'ARENQUE', 'BROTOLA ENTERA', 'CABALLA O VERDEL TERCIADA',\n",
       "       'CACHUCHO', 'CONGRIO', 'CORVINA ACUICULTURA', 'CORVINA SALVAJE',\n",
       "       'DENTON O SAMA', 'GALLINAS O GALLINETAS', 'LUBINA DE CAPTURA',\n",
       "       'LUBINA ACUICULTURA GRANDE', 'LUBINA ACUICULTU. MEDIANA',\n",
       "       'LUBINA ACUICULT. PEQUQEÑA', 'MARUCA', 'PARGO',\n",
       "       'RODABALLO DE CAPTURA', 'RODABALLO ACUICULTURA', 'ROSADA',\n",
       "       'FILETE DE SALMON', 'SALMON GRANDE>7KG', 'SALMON MEDIANO 4-5 KG',\n",
       "       'SARDINA PARROCHA', 'SARGO', 'ANILLAS DE VOLADOR O POTA', 'MERO',\n",
       "       'ABADEJO', 'BAILAS', 'CHERNAS', 'LENGUADINA', 'PLATIJA',\n",
       "       'CHIPIRONES', 'SALMONETE DE ROCA', 'SALMONETE DE FANGO',\n",
       "       'TRUCHA ASALMONADA', 'PERCA O TILAPIA', 'FILETE DE PERCA',\n",
       "       'SALMON AHUMADO', 'TRUCHA AHUMADA', 'ANCHOA AHUMADA',\n",
       "       'PALOMETA AHUMADA', 'CARBONERO O FOGONERO', 'GULA', 'SAN PEDRO',\n",
       "       'SALAZONES', 'TILAPIA', 'ALMEJAS FINAS', 'ALMEJAS BABOSAS',\n",
       "       'ALMEJAS RUBIAS', 'ALMEJA CULTIVADA', 'CANGREJO DE MAR',\n",
       "       'CIGALAS GRANDES', 'CIGALAS MEDIANAS', 'CIGALAS PEQUEÑAS',\n",
       "       'CHIRLA GRANDE -ITALIA-', 'CHIRLA PEQUEÑA -ITALIA-',\n",
       "       'GAMBAS GIGANTES', 'GAMBAS PLANCHA', 'GAMBAS ARROCERAS',\n",
       "       'GAMBAS COCIDAS GRANDES', 'GAMBAS COCIDAS MEDIANAS',\n",
       "       'LANGOSTINO FRESCO', 'LANGOSTINO COCIDO GRANDE',\n",
       "       'LANGOSTINO COCIDO MEDIANO', 'MEJILLON EXTRA', 'MEJILLON GRANDE',\n",
       "       'MEJILLON NORMAL', 'PERCEBE NACIONAL', 'PERCEBE IMPORTACION',\n",
       "       'QUISQUILLA', 'BERBERECHO GRANDE', 'BERBERECHO MEDIANO',\n",
       "       'BERBERECHO PEQUEÑO', 'BIGAROS O CARACOLILLOS', 'BOGAVANTE GRANDE',\n",
       "       'BOGAVANTE MEDIANO', 'BUEY', 'CARABINERO GRANDE',\n",
       "       'CARABINERO MEDIANO', 'CARABINERO PEQUEÑO',\n",
       "       'CENTOLLA DE IMPORTACION', 'CENTOLLA -GALICIA- GRANDE', 'COQUINAS',\n",
       "       'CHOCHAS', 'LANGOSTAS', 'NAVAJAS', 'NAVAJA EUROPEA ATLANTICA',\n",
       "       'NECORAS DE IMPORTACION', 'OSTIONES', 'OSTRA GIGANTE',\n",
       "       'OSTRA EXTRA', 'OSTRA SUPER', 'VIEIRA GRANDE', 'CARACOLES GRANDES',\n",
       "       'CARACOLES PEQUEÑOS', 'CAÑADILLA', 'CONCHA FINA O.V.',\n",
       "       'ERIZO DE MAR', 'ACEDIAS CONG', 'BOQUERON CONG', 'SARDINAS CONG',\n",
       "       'CALAMAR PATAGONICO CONG', 'CALAMAR CALIFORNIA CONG',\n",
       "       'CALAMAR NACIONAL CONG', 'CALAMAR INDIO CONG',\n",
       "       'LENGUADO ENTERO CON PIEL CONG', 'MERLUZA FILETE S/P. CONG',\n",
       "       'MERLUZA FILETE C/P. CONG', 'MERLUZA N-5 DE +2,5 KG. CONG',\n",
       "       'MERLUZA N-4 HASTA 2,5 KG. CONG', 'MERLUZA RODAJA CONG',\n",
       "       'PESCADILLA N-3 HASTA 1,5K CONG', 'PESCADILLA N-2 HASTA 0,8K CONG',\n",
       "       'PESCADILLA N-1 HASTA 0,5K CONG', 'PESCADILLA N-0 H. 0,250 K CONG',\n",
       "       'GAMBA GRANDE CON CABEZA CONG', 'GAMBA MEDIANA CON CABEZA CONG',\n",
       "       'GAMBA PEQUEÑA CON CABEZA CONG', 'GAMBA SIN CABEZA (COLAS) CONG',\n",
       "       'LANGOSTINO GRANDE CONG', 'LANGOSTINO MEDIANO CONG',\n",
       "       'LANGOSTINO PEQUEÑO CONG', 'LANGOSTINO S.CABEZA COLA CONG',\n",
       "       'LANGOSTINO COCIDO GRANDE CONG', 'LANGOSTINO COCIDO MEDIANO CONG',\n",
       "       'LANGOSTINO COCIDO PEQUEÑO CONG', 'LANGOSTINO TIGRE CONG',\n",
       "       'JIBIA SUCIA CONG', 'JIBIA LIMPIA CONG', 'BACALAO TROZOS CONG',\n",
       "       'BESUGO CONG', 'BONITO S/C. CONG', 'BONITO C/C. CONG',\n",
       "       'CARABINERO GRANDE CONG', 'CARIBENEROS MEDIANOS CONG',\n",
       "       'CARABINERO PEQUEÑO CONG', 'CIGALAS GRANDES CONG',\n",
       "       'CIGALAS MEDIANAS CONG', 'CIGALAS PEQUEÑAS CONG', 'HUEVAS CONG',\n",
       "       'PULPO GALLEGO CONG', 'RAPE CONG', 'VOLADORES O POTAS CONG',\n",
       "       'SALMON CONG', 'SALMON RODAJAS CONG', 'SALMON FILETE CONG',\n",
       "       'VIEIRAS CONG', 'EMPANADILLAS CONG', 'CROQUETAS CONG',\n",
       "       'CALAMARES ROMANA CONG', 'PALITOS DE MERLUZA CONG',\n",
       "       'MUSLITOS CONG', 'PEZ ESPADA CONG', 'PATAS O PECHOS CANGREJO CONG',\n",
       "       'PERCA CONG', 'CAZON CONG', 'SURIMI CONG', 'GULA CONG',\n",
       "       'REJO CONGELADO CONG', 'TINTORERA O CAELLA CONG',\n",
       "       'ATUN CON CABEZA CONG', 'BOGAVANTE CONGELADO CONG',\n",
       "       'ELABORADOS CONGELADOS CONG', 'HALIBUT CONGELADO CONG',\n",
       "       'AVÍCOLA FRESCO SIN ESPECI', 'PORCINO CONG SIN ESPECIF',\n",
       "       'AVÍCOLA CONG SIN ESPECIF', 'CIRUELA RED BEAUTY',\n",
       "       'MANDARINAS HERNANDINA', 'MELOCOTONES AMARILLO', 'NISPEROS',\n",
       "       'KUMKUAT', 'ROMANESCU', 'TIRABEQUES', 'KALE',\n",
       "       'BACALAO ENTERO C/C 1/2 KG', 'BOQUERON ITALIANO GRANDE',\n",
       "       'EMPERADOR', 'MAGRE', 'PESCADA', 'ANGULA', 'CABRACHO O RASCACIO',\n",
       "       'MELVA', 'SOLLA', 'SALEMAS', 'CONSERVAS DE PESCADO',\n",
       "       'PESCADA CONG', 'CHIPIRONES CONG', 'BUEY CONG',\n",
       "       'PESCADOS AHUMADOS CONG', 'PANGA FILETE CONG', 'VACUNO ELABORADO',\n",
       "       'PERDIZ', 'VACUNO DESPIECE', 'OVINO DESPIECE CONG.',\n",
       "       'PORCINO DESPIECE CONG.', 'MANDARINA ORTANIQUE',\n",
       "       'NARANJA VALENCIA LATE', 'RESTO DE FRUTAS',\n",
       "       'ALCACHOFA BLANCA TUDELA', 'RABANILLAS', 'HINOJO',\n",
       "       'RESTO DE HORTALIZAS', 'RESTO DE PATATAS', 'ATUN PATUDO U OBESO',\n",
       "       'MUJOL', 'SABLE', 'ALACHA', 'CABALLA O VERDEL GRANDE',\n",
       "       'CABALLA O VERDEL PEQUEÑA', 'SALMON PEQUEÑO 1-3 KG',\n",
       "       'RESTO PESCADO FRESCO', 'CHIRLA NACIONAL GRANDE',\n",
       "       'RESTO MARISCO FRESCO', 'NECORA COCIDA GRANDE 8-12 CONG',\n",
       "       'RESTO CONGELADOS CONG', 'OVINO CASQUERIA',\n",
       "       'VACUNO CONG. SIN ESPECIF', 'OVINO CONG. SIN ESPECIF',\n",
       "       'LIMONES VERNA', 'NARANJA NAVEL POWEL', 'PARAGUAYAS', 'ZAPOTES',\n",
       "       'FISALIS', 'LISA', 'BERBERECHO CONG', 'AVICOLA PRECOCINADO',\n",
       "       'BREVAS', 'BERROS', 'SARDINA NORMAL', 'MERO CONG', 'DORADA CONG',\n",
       "       'CIRUELA FRESA', 'LIMON EUREKA', 'PERAS CASTELL O SANJUANER',\n",
       "       'PERA MAGALLON', 'UVA CARDINALE', 'UVA VICTORIA',\n",
       "       'FRUTA DE LA PASION', 'SETA/HONGO BOLETUS EDULIS',\n",
       "       'FILETE DE SARDINA', 'BERTORELLAS', 'CENTOLLOS CONG',\n",
       "       'LUBINA CONG', 'CIRUELAS REINA CLAUDIA',\n",
       "       'CIRUELAS CLAUDIA FRANCESA', 'HIGOS VERDES', 'HIGOS NEGROS',\n",
       "       'PERAS LIMONERAS', 'HIGO CHUMBO', 'LULAS', 'MARRAJOS',\n",
       "       'BACALADILLA-LIRIO MEDIANO', 'REJOS', 'CHIRLA NACIONAL PEQUEÑA',\n",
       "       'LANGOSTA CONG', 'LANGOSTA COLAS CONG', 'PALOMETA O JAPUTA CONG',\n",
       "       'CIRUELAS TOLOSA', 'CIRUELA SUN GOLD', 'CIRUELA ANGELENO',\n",
       "       'MELOCOTONES CALANDA', 'UVA MOSCATEL ESPAÑOLA', 'UVA IDEAL',\n",
       "       'UVA ALFONSO LAVALLE', 'UVA VILLANUEVA', 'CARAMBOLA', 'GUANÁBANA',\n",
       "       'AGUJA', 'GALLOS CONG', 'CORVINA CONG', 'ALMEJA CONG',\n",
       "       'CIRUELA ANASPAR', 'MANDARINAS SATSUMAS',\n",
       "       'PESCADILLA NEGRA PELONA', 'RODABALLO CONG',\n",
       "       'COCOCHAS MERLUZA CONG', 'COCOCHA BACALAO CONG',\n",
       "       'COCOCHAS RAPE CONG'], dtype=object)"
      ]
     },
     "execution_count": 28,
     "metadata": {},
     "output_type": "execute_result"
    }
   ],
   "source": [
    "# Conocer las variedades de producto\n",
    "df['descripción_variedad'].unique()"
   ]
  },
  {
   "cell_type": "markdown",
   "metadata": {},
   "source": [
    "Se observa que de un mismo producto hay varias variedades (Ejemplo: producto Vacuno, variedades Canal,Despiece,etc...) Para poder comparar la cantidad de compras de cada producto se optara por agrupar en una nueva columna todas las variedades en una única categoría."
   ]
  },
  {
   "cell_type": "code",
   "execution_count": 29,
   "metadata": {},
   "outputs": [
    {
     "name": "stdout",
     "output_type": "stream",
     "text": [
      "  descripción_variedad tipo_general\n",
      "0         VACUNO CANAL       VACUNO\n",
      "1         VACUNO CANAL       VACUNO\n",
      "2         VACUNO CANAL       VACUNO\n",
      "3         VACUNO CANAL       VACUNO\n",
      "4         VACUNO CANAL       VACUNO\n"
     ]
    }
   ],
   "source": [
    "# Función para crear\n",
    "def agregar_tipo_general(df, columna_descripcion):\n",
    "    \"\"\"\n",
    "    Agrega una columna de tipo general basada en la primera palabra de la columna de descripción.\n",
    "\n",
    "    Args:\n",
    "        df (pd.DataFrame): DataFrame que contiene la columna de descripción.\n",
    "        columna_descripcion (str): Nombre de la columna con las descripciones específicas.\n",
    "\n",
    "    Returns:\n",
    "        pd.DataFrame: DataFrame con una nueva columna 'tipo_general'.\n",
    "    \"\"\"\n",
    "    # Crear la nueva columna basada en la primera palabra de la descripción\n",
    "    df['tipo_general'] = df[columna_descripcion].str.split().str[0].str.upper()\n",
    "    return df\n",
    "\n",
    "# Aplicar la función\n",
    "df = agregar_tipo_general(df, 'descripción_variedad')\n",
    "\n",
    "# Verificar el resultado\n",
    "print(df[['descripción_variedad', 'tipo_general']].head())"
   ]
  },
  {
   "cell_type": "code",
   "execution_count": 30,
   "metadata": {
    "tags": []
   },
   "outputs": [
    {
     "data": {
      "text/html": [
       "<div>\n",
       "<style scoped>\n",
       "    .dataframe tbody tr th:only-of-type {\n",
       "        vertical-align: middle;\n",
       "    }\n",
       "\n",
       "    .dataframe tbody tr th {\n",
       "        vertical-align: top;\n",
       "    }\n",
       "\n",
       "    .dataframe thead th {\n",
       "        text-align: right;\n",
       "    }\n",
       "</style>\n",
       "<table border=\"1\" class=\"dataframe\">\n",
       "  <thead>\n",
       "    <tr style=\"text-align: right;\">\n",
       "      <th></th>\n",
       "      <th>fecha_desde</th>\n",
       "      <th>fecha_hasta</th>\n",
       "      <th>código_variedad</th>\n",
       "      <th>descripción_variedad</th>\n",
       "      <th>origen</th>\n",
       "      <th>descripción_origen</th>\n",
       "      <th>kilos</th>\n",
       "      <th>precio_más_frecuente</th>\n",
       "      <th>precio_máximo</th>\n",
       "      <th>precio_mínimo</th>\n",
       "      <th>var_precios</th>\n",
       "      <th>trimestre</th>\n",
       "      <th>tipo_general</th>\n",
       "    </tr>\n",
       "  </thead>\n",
       "  <tbody>\n",
       "    <tr>\n",
       "      <th>0</th>\n",
       "      <td>2024-01-01</td>\n",
       "      <td>2024-01-31</td>\n",
       "      <td>CA 0101</td>\n",
       "      <td>VACUNO CANAL</td>\n",
       "      <td>1</td>\n",
       "      <td>ALAVA</td>\n",
       "      <td>45830</td>\n",
       "      <td>5.90</td>\n",
       "      <td>5.91</td>\n",
       "      <td>5.89</td>\n",
       "      <td>0.02</td>\n",
       "      <td>1</td>\n",
       "      <td>VACUNO</td>\n",
       "    </tr>\n",
       "    <tr>\n",
       "      <th>1</th>\n",
       "      <td>2024-01-01</td>\n",
       "      <td>2024-01-31</td>\n",
       "      <td>CA 0101</td>\n",
       "      <td>VACUNO CANAL</td>\n",
       "      <td>5</td>\n",
       "      <td>AVILA</td>\n",
       "      <td>21140</td>\n",
       "      <td>5.91</td>\n",
       "      <td>5.91</td>\n",
       "      <td>5.91</td>\n",
       "      <td>0.00</td>\n",
       "      <td>1</td>\n",
       "      <td>VACUNO</td>\n",
       "    </tr>\n",
       "    <tr>\n",
       "      <th>2</th>\n",
       "      <td>2024-01-01</td>\n",
       "      <td>2024-01-31</td>\n",
       "      <td>CA 0101</td>\n",
       "      <td>VACUNO CANAL</td>\n",
       "      <td>8</td>\n",
       "      <td>BARCELONA</td>\n",
       "      <td>137340</td>\n",
       "      <td>5.91</td>\n",
       "      <td>5.91</td>\n",
       "      <td>5.90</td>\n",
       "      <td>0.01</td>\n",
       "      <td>1</td>\n",
       "      <td>VACUNO</td>\n",
       "    </tr>\n",
       "    <tr>\n",
       "      <th>3</th>\n",
       "      <td>2024-01-01</td>\n",
       "      <td>2024-01-31</td>\n",
       "      <td>CA 0101</td>\n",
       "      <td>VACUNO CANAL</td>\n",
       "      <td>9</td>\n",
       "      <td>BURGOS</td>\n",
       "      <td>42456</td>\n",
       "      <td>5.90</td>\n",
       "      <td>5.91</td>\n",
       "      <td>5.89</td>\n",
       "      <td>0.02</td>\n",
       "      <td>1</td>\n",
       "      <td>VACUNO</td>\n",
       "    </tr>\n",
       "    <tr>\n",
       "      <th>4</th>\n",
       "      <td>2024-01-01</td>\n",
       "      <td>2024-01-31</td>\n",
       "      <td>CA 0101</td>\n",
       "      <td>VACUNO CANAL</td>\n",
       "      <td>10</td>\n",
       "      <td>CACERES</td>\n",
       "      <td>2230424</td>\n",
       "      <td>5.90</td>\n",
       "      <td>5.91</td>\n",
       "      <td>5.89</td>\n",
       "      <td>0.02</td>\n",
       "      <td>1</td>\n",
       "      <td>VACUNO</td>\n",
       "    </tr>\n",
       "  </tbody>\n",
       "</table>\n",
       "</div>"
      ],
      "text/plain": [
       "  fecha_desde fecha_hasta código_variedad descripción_variedad origen  \\\n",
       "0  2024-01-01  2024-01-31         CA 0101         VACUNO CANAL      1   \n",
       "1  2024-01-01  2024-01-31         CA 0101         VACUNO CANAL      5   \n",
       "2  2024-01-01  2024-01-31         CA 0101         VACUNO CANAL      8   \n",
       "3  2024-01-01  2024-01-31         CA 0101         VACUNO CANAL      9   \n",
       "4  2024-01-01  2024-01-31         CA 0101         VACUNO CANAL     10   \n",
       "\n",
       "      descripción_origen    kilos  precio_más_frecuente  precio_máximo  \\\n",
       "0   ALAVA                   45830                  5.90           5.91   \n",
       "1   AVILA                   21140                  5.91           5.91   \n",
       "2   BARCELONA              137340                  5.91           5.91   \n",
       "3   BURGOS                  42456                  5.90           5.91   \n",
       "4   CACERES               2230424                  5.90           5.91   \n",
       "\n",
       "   precio_mínimo  var_precios  trimestre tipo_general  \n",
       "0           5.89         0.02          1       VACUNO  \n",
       "1           5.91         0.00          1       VACUNO  \n",
       "2           5.90         0.01          1       VACUNO  \n",
       "3           5.89         0.02          1       VACUNO  \n",
       "4           5.89         0.02          1       VACUNO  "
      ]
     },
     "execution_count": 30,
     "metadata": {},
     "output_type": "execute_result"
    }
   ],
   "source": [
    "df.head()"
   ]
  },
  {
   "cell_type": "code",
   "execution_count": 31,
   "metadata": {
    "tags": []
   },
   "outputs": [
    {
     "data": {
      "text/plain": [
       "array(['VACUNO', 'OVINO', 'PORCINO', 'HUEVOS', 'POLLO', 'PAVO',\n",
       "       'CODORNIZ', 'CONEJO', 'AVICOLA', 'AGUACATE', 'ALBARICOQUE',\n",
       "       'CAQUIS', 'CAQUI', 'CASTAÑA', 'CEREZAS', 'CIRUELAS', 'COCOS',\n",
       "       'CHIRIMOYAS', 'DATILES', 'DATIL', 'FRESON', 'GRANADAS', 'HIGOS',\n",
       "       'LIMON', 'MANDARINAS', 'MANDARINA', 'MANZANAS', 'MANZANA',\n",
       "       'MELOCOTON', 'MELONES', 'MEMBRILLOS', 'NARANJAS', 'NARANJA',\n",
       "       'NECTARINA', 'NUECES', 'PERAS', 'PIÑA', 'PLATANOS', 'PLATANO',\n",
       "       'POMELO', 'SANDIA', 'UVA', 'ACEITUNAS', 'PAPAYA', 'GUAYABOS',\n",
       "       'MANGOS', 'KIWI', 'FRAMBUESAS', 'PITAHAYA', 'LIMA', 'OCRA',\n",
       "       'LITCHIS', 'GROSELLA', 'MORAS', 'CACAHUETE', 'PANCHITO',\n",
       "       'PISTACHO', 'ALMENDRA', 'ARÁNDANOS', 'ACELGAS', 'AJOS', 'AJO',\n",
       "       'ALCACHOFAS', 'APIO', 'APIONABO', 'BERENJENAS', 'BONIATOS',\n",
       "       'CALABACIN', 'CALABAZAS', 'CALABAZA', 'CARDOS', 'CEBOLLA',\n",
       "       'COLES-REPOLLO', 'COL', 'COLES', 'COLIFLOR', 'CHAMPIÑON',\n",
       "       'CHIRIVIAS', 'ENDIVIA', 'ACHICORIA', 'ESCAROLAS', 'ESPARRAGOS',\n",
       "       'ESPARRAGO', 'ESPINACAS', 'GUISANTES', 'HABAS', 'JUDIAS', 'JUDIA',\n",
       "       'LECHUGAS', 'LECHUGA', 'NABOS', 'PEPINO', 'PEREJIL', 'PIMIENTO',\n",
       "       'PIMIENTOS', 'PUERROS', 'RABANOS', 'REMOLACHA', 'SETAS', 'SETA',\n",
       "       'TOMATE', 'ZANAHORIAS', 'ZANAHORIA', 'BATATAS', 'GRELOS',\n",
       "       'GUINDILLAS', 'BORRAJAS', 'LAUREL', 'BROCOLI', 'YUCA', 'MAIZ',\n",
       "       'JENGIBRE', 'YAME', 'CUARTA', 'QUINTA', 'CONSERVAS', 'CONGELADOS',\n",
       "       'ELABORADOS', 'CEBOLLINO', 'GERMINADOS', 'MICROVEGETALES', 'EDDO',\n",
       "       'FLORES', 'HIERBAS', 'PAK', 'PATATA', 'ACEDIAS', 'ANCHOAS', 'ATUN',\n",
       "       'BACALAO', 'BESUGO', 'BOGAS', 'BOQUERON', 'BONITO', 'BRECAS',\n",
       "       'CALAMAR', 'CAZON', 'DORADA', 'FANECAS', 'GALLO', 'HUEVAS',\n",
       "       'JUREL', 'LENGUADO', 'LIBA', 'LIRIO', 'MERLUZA', 'PALOMETA-JAPUTA',\n",
       "       'PESCADILLA', 'PESCAD.', 'PEZ', 'COCOCHAS', 'COCOCHA', 'PULPO',\n",
       "       'RAPE', 'RAYA', 'MENDOS', 'TINTORERA', 'BACALADILLA-LIRIO',\n",
       "       'JIBIA', 'ALIGOTE', 'ARENQUE', 'BROTOLA', 'CABALLA', 'CACHUCHO',\n",
       "       'CONGRIO', 'CORVINA', 'DENTON', 'GALLINAS', 'LUBINA', 'MARUCA',\n",
       "       'PARGO', 'RODABALLO', 'ROSADA', 'FILETE', 'SALMON', 'SARDINA',\n",
       "       'SARGO', 'ANILLAS', 'MERO', 'ABADEJO', 'BAILAS', 'CHERNAS',\n",
       "       'LENGUADINA', 'PLATIJA', 'CHIPIRONES', 'SALMONETE', 'TRUCHA',\n",
       "       'PERCA', 'ANCHOA', 'PALOMETA', 'CARBONERO', 'GULA', 'SAN',\n",
       "       'SALAZONES', 'TILAPIA', 'ALMEJAS', 'ALMEJA', 'CANGREJO', 'CIGALAS',\n",
       "       'CHIRLA', 'GAMBAS', 'LANGOSTINO', 'MEJILLON', 'PERCEBE',\n",
       "       'QUISQUILLA', 'BERBERECHO', 'BIGAROS', 'BOGAVANTE', 'BUEY',\n",
       "       'CARABINERO', 'CENTOLLA', 'COQUINAS', 'CHOCHAS', 'LANGOSTAS',\n",
       "       'NAVAJAS', 'NAVAJA', 'NECORAS', 'OSTIONES', 'OSTRA', 'VIEIRA',\n",
       "       'CARACOLES', 'CAÑADILLA', 'CONCHA', 'ERIZO', 'SARDINAS', 'GAMBA',\n",
       "       'CARIBENEROS', 'VOLADORES', 'VIEIRAS', 'EMPANADILLAS', 'CROQUETAS',\n",
       "       'CALAMARES', 'PALITOS', 'MUSLITOS', 'PATAS', 'SURIMI', 'REJO',\n",
       "       'HALIBUT', 'AVÍCOLA', 'CIRUELA', 'MELOCOTONES', 'NISPEROS',\n",
       "       'KUMKUAT', 'ROMANESCU', 'TIRABEQUES', 'KALE', 'EMPERADOR', 'MAGRE',\n",
       "       'PESCADA', 'ANGULA', 'CABRACHO', 'MELVA', 'SOLLA', 'SALEMAS',\n",
       "       'PESCADOS', 'PANGA', 'PERDIZ', 'RESTO', 'ALCACHOFA', 'RABANILLAS',\n",
       "       'HINOJO', 'MUJOL', 'SABLE', 'ALACHA', 'NECORA', 'LIMONES',\n",
       "       'PARAGUAYAS', 'ZAPOTES', 'FISALIS', 'LISA', 'BREVAS', 'BERROS',\n",
       "       'PERA', 'FRUTA', 'SETA/HONGO', 'BERTORELLAS', 'CENTOLLOS', 'HIGO',\n",
       "       'LULAS', 'MARRAJOS', 'REJOS', 'LANGOSTA', 'CARAMBOLA', 'GUANÁBANA',\n",
       "       'AGUJA', 'GALLOS'], dtype=object)"
      ]
     },
     "execution_count": 31,
     "metadata": {},
     "output_type": "execute_result"
    }
   ],
   "source": [
    "# Columna categoría producto (hay varias categorias duplicadas una en singular y la otra en plural)\n",
    "df['tipo_general'].unique()"
   ]
  },
  {
   "cell_type": "code",
   "execution_count": 38,
   "metadata": {},
   "outputs": [],
   "source": [
    "from difflib import get_close_matches\n",
    "\n",
    "# Función para agrupar singulares y plurales\n",
    "def agrupar_categorias(categorias, threshold=0.8):\n",
    "    agrupaciones = {}\n",
    "    for categoria in categorias:\n",
    "        # Buscar categorías similares (con un umbral de similitud)\n",
    "        similares = get_close_matches(categoria, list(agrupaciones.keys()), n=1, cutoff=threshold)\n",
    "        if similares:\n",
    "            # Si hay una categoría similar, agruparla\n",
    "            agrupaciones[similares[0]].append(categoria)\n",
    "        else:\n",
    "            # Si no, crear una nueva clave en el diccionario\n",
    "            agrupaciones[categoria] = [categoria]\n",
    "    \n",
    "    # Crear un diccionario plano (clave-valor)\n",
    "    categoria_to_grupo = {item: grupo for grupo, items in agrupaciones.items() for item in items}\n",
    "    return categoria_to_grupo\n",
    "\n",
    "# Agrupar las categorías\n",
    "categoria_to_grupo = agrupar_categorias(df['tipo_general'])\n",
    "df['nueva_categoria'] = df['tipo_general'].map(categoria_to_grupo)\n"
   ]
  },
  {
   "cell_type": "code",
   "execution_count": 39,
   "metadata": {},
   "outputs": [
    {
     "data": {
      "text/plain": [
       "array(['VACUNO', 'OVINO', 'PORCINO', 'HUEVOS', 'POLLO', 'PAVO',\n",
       "       'CODORNIZ', 'CONEJO', 'AVICOLA', 'AGUACATE', 'ALBARICOQUE',\n",
       "       'CAQUIS', 'CASTAÑA', 'CEREZAS', 'CIRUELAS', 'COCOS', 'CHIRIMOYAS',\n",
       "       'DATILES', 'FRESON', 'GRANADAS', 'HIGOS', 'LIMON', 'MANDARINAS',\n",
       "       'MANZANAS', 'MELOCOTON', 'MELONES', 'MEMBRILLOS', 'NARANJAS',\n",
       "       'NECTARINA', 'NUECES', 'PERAS', 'PIÑA', 'PLATANOS', 'POMELO',\n",
       "       'SANDIA', 'UVA', 'ACEITUNAS', 'PAPAYA', 'GUAYABOS', 'MANGOS',\n",
       "       'KIWI', 'FRAMBUESAS', 'PITAHAYA', 'LIMA', 'OCRA', 'LITCHIS',\n",
       "       'GROSELLA', 'MORAS', 'CACAHUETE', 'PANCHITO', 'PISTACHO',\n",
       "       'ALMENDRA', 'ARÁNDANOS', 'ACELGAS', 'AJOS', 'ALCACHOFAS', 'APIO',\n",
       "       'APIONABO', 'BERENJENAS', 'BONIATOS', 'CALABACIN', 'CALABAZAS',\n",
       "       'CARDOS', 'CEBOLLA', 'COLES-REPOLLO', 'COL', 'COLES', 'COLIFLOR',\n",
       "       'CHAMPIÑON', 'CHIRIVIAS', 'ENDIVIA', 'ACHICORIA', 'ESCAROLAS',\n",
       "       'ESPARRAGOS', 'ESPINACAS', 'GUISANTES', 'HABAS', 'JUDIAS',\n",
       "       'LECHUGAS', 'NABOS', 'PEPINO', 'PEREJIL', 'PIMIENTO', 'PUERROS',\n",
       "       'RABANOS', 'REMOLACHA', 'SETAS', 'TOMATE', 'ZANAHORIAS', 'BATATAS',\n",
       "       'GRELOS', 'GUINDILLAS', 'BORRAJAS', 'LAUREL', 'BROCOLI', 'YUCA',\n",
       "       'MAIZ', 'JENGIBRE', 'YAME', 'CUARTA', 'QUINTA', 'CONSERVAS',\n",
       "       'CONGELADOS', 'ELABORADOS', 'CEBOLLINO', 'GERMINADOS',\n",
       "       'MICROVEGETALES', 'EDDO', 'FLORES', 'HIERBAS', 'PAK', 'PATATA',\n",
       "       'ACEDIAS', 'ANCHOAS', 'ATUN', 'BACALAO', 'BESUGO', 'BOGAS',\n",
       "       'BOQUERON', 'BRECAS', 'CALAMAR', 'CAZON', 'DORADA', 'FANECAS',\n",
       "       'GALLO', 'JUREL', 'LENGUADO', 'LIBA', 'LIRIO', 'MERLUZA',\n",
       "       'PALOMETA-JAPUTA', 'PESCADILLA', 'PESCAD.', 'PEZ', 'COCOCHAS',\n",
       "       'PULPO', 'RAPE', 'RAYA', 'MENDOS', 'TINTORERA',\n",
       "       'BACALADILLA-LIRIO', 'JIBIA', 'ALIGOTE', 'ARENQUE', 'BROTOLA',\n",
       "       'CABALLA', 'CACHUCHO', 'CONGRIO', 'CORVINA', 'DENTON', 'GALLINAS',\n",
       "       'LUBINA', 'MARUCA', 'PARGO', 'RODABALLO', 'ROSADA', 'FILETE',\n",
       "       'SALMON', 'SARDINA', 'ANILLAS', 'MERO', 'ABADEJO', 'BAILAS',\n",
       "       'CHERNAS', 'LENGUADINA', 'PLATIJA', 'CHIPIRONES', 'TRUCHA',\n",
       "       'PALOMETA', 'CARBONERO', 'GULA', 'SAN', 'SALAZONES', 'TILAPIA',\n",
       "       'ALMEJAS', 'CANGREJO', 'CIGALAS', 'CHIRLA', 'GAMBAS', 'LANGOSTINO',\n",
       "       'MEJILLON', 'PERCEBE', 'QUISQUILLA', 'BERBERECHO', 'BIGAROS',\n",
       "       'BOGAVANTE', 'BUEY', 'CENTOLLOS', 'COQUINAS', 'LANGOSTAS',\n",
       "       'NAVAJA', 'NECORAS', 'OSTIONES', 'OSTRA', 'VIEIRA', 'CARACOLES',\n",
       "       'CAÑADILLA', 'CONCHA', 'ERIZO', 'VOLADORES', 'EMPANADILLAS',\n",
       "       'CROQUETAS', 'PALITOS', 'MUSLITOS', 'PATAS', 'SURIMI', 'REJO',\n",
       "       'HALIBUT', 'NISPEROS', 'KUMKUAT', 'ROMANESCU', 'TIRABEQUES',\n",
       "       'KALE', 'EMPERADOR', 'MAGRE', 'CABRACHO', 'MELVA', 'SOLLA',\n",
       "       'SALEMAS', 'PANGA', 'PERDIZ', 'RESTO', 'HINOJO', 'MUJOL', 'SABLE',\n",
       "       'ALACHA', 'PARAGUAYAS', 'ZAPOTES', 'FISALIS', 'LISA', 'BERROS',\n",
       "       'FRUTA', 'SETA/HONGO', 'BERTORELLAS', 'LULAS', 'MARRAJOS',\n",
       "       'CARAMBOLA', 'GUANÁBANA', 'AGUJA'], dtype=object)"
      ]
     },
     "execution_count": 39,
     "metadata": {},
     "output_type": "execute_result"
    }
   ],
   "source": [
    "df['nueva_categoria'].unique()"
   ]
  },
  {
   "cell_type": "code",
   "execution_count": 57,
   "metadata": {},
   "outputs": [
    {
     "data": {
      "text/plain": [
       "array(['VACUNO', 'PORCINO', 'MANZANAS', 'NARANJAS', 'PLATANOS', 'CEBOLLA',\n",
       "       'LECHUGAS', 'PIMIENTO', 'TOMATE', 'PATATA'], dtype=object)"
      ]
     },
     "execution_count": 57,
     "metadata": {},
     "output_type": "execute_result"
    }
   ],
   "source": [
    "df['nueva_categoria']\n",
    "\n",
    "# Agrupar por 'nueva_categoria' y sumar 'kilos'\n",
    "top_productos = (\n",
    "    df.groupby('nueva_categoria', as_index=False)['kilos']\n",
    "    .sum()\n",
    "    .sort_values(by='kilos', ascending=False)\n",
    "    .head(10)\n",
    ")\n",
    "\n",
    "# Filtrar el DataFrame original con los 5 productos más comprados\n",
    "df_top_productos = df[['nueva_categoria', 'kilos']][df['nueva_categoria'].isin(top_productos['nueva_categoria'])]\n",
    "\n",
    "\n",
    "# Categorias  producto top 5\n",
    "df_top_productos['nueva_categoria'].unique()"
   ]
  },
  {
   "cell_type": "code",
   "execution_count": 61,
   "metadata": {},
   "outputs": [
    {
     "name": "stdout",
     "output_type": "stream",
     "text": [
      "nueva_categoria\n",
      "VACUNO      503962183\n",
      "PATATA      199923679\n",
      "NARANJAS    153259544\n",
      "PLATANOS    151958315\n",
      "TOMATE      130187940\n",
      "PORCINO     100780961\n",
      "MANZANAS     99177288\n",
      "CEBOLLA      79423871\n",
      "LECHUGAS     62370447\n",
      "PIMIENTO     55632271\n",
      "Name: kilos, dtype: int64\n"
     ]
    }
   ],
   "source": [
    "# df_top_productos = df_top_productos.groupby('nueva_categoria')['kilos']\n",
    "# df_top_productos\n",
    "\n",
    "# PRODUCTOS MÁS VENDIDOS\n",
    "print(df_top_productos.groupby('nueva_categoria')['kilos'].sum().sort_values(ascending= False))\n"
   ]
  },
  {
   "cell_type": "code",
   "execution_count": 69,
   "metadata": {},
   "outputs": [
    {
     "data": {
      "text/plain": [
       "array(['VACUNO', 'OVINO', 'PORCINO', 'HUEVOS', 'POLLO', 'PAVO',\n",
       "       'CODORNIZ', 'CONEJO', 'AVICOLA', 'AGUACATE', 'ALBARICOQUE',\n",
       "       'CAQUIS', 'CASTAÑA', 'CEREZAS', 'CIRUELAS', 'COCOS', 'CHIRIMOYAS',\n",
       "       'DATILES', 'FRESON', 'GRANADAS', 'HIGOS', 'LIMON', 'MANDARINAS',\n",
       "       'MANZANAS', 'MELOCOTON', 'MELONES', 'MEMBRILLOS', 'NARANJAS',\n",
       "       'NECTARINA', 'NUECES', 'PERAS', 'PIÑA', 'PLATANOS', 'POMELO',\n",
       "       'SANDIA', 'UVA', 'ACEITUNAS', 'PAPAYA', 'GUAYABOS', 'MANGOS',\n",
       "       'KIWI', 'FRAMBUESAS', 'PITAHAYA', 'LIMA', 'OCRA', 'LITCHIS',\n",
       "       'GROSELLA', 'MORAS', 'CACAHUETE', 'PANCHITO', 'PISTACHO',\n",
       "       'ALMENDRA', 'ARÁNDANOS', 'ACELGAS', 'AJOS', 'ALCACHOFAS', 'APIO',\n",
       "       'APIONABO', 'BERENJENAS', 'BONIATOS', 'CALABACIN', 'CALABAZAS',\n",
       "       'CARDOS', 'CEBOLLA', 'COLES-REPOLLO', 'COL', 'COLES', 'COLIFLOR',\n",
       "       'CHAMPIÑON', 'CHIRIVIAS', 'ENDIVIA', 'ACHICORIA', 'ESCAROLAS',\n",
       "       'ESPARRAGOS', 'ESPINACAS', 'GUISANTES', 'HABAS', 'JUDIAS',\n",
       "       'LECHUGAS', 'NABOS', 'PEPINO', 'PEREJIL', 'PIMIENTO', 'PUERROS',\n",
       "       'RABANOS', 'REMOLACHA', 'SETAS', 'TOMATE', 'ZANAHORIAS', 'BATATAS',\n",
       "       'GRELOS', 'GUINDILLAS', 'BORRAJAS', 'LAUREL', 'BROCOLI', 'YUCA',\n",
       "       'MAIZ', 'JENGIBRE', 'YAME', 'CUARTA', 'QUINTA', 'CONSERVAS',\n",
       "       'CONGELADOS', 'ELABORADOS', 'CEBOLLINO', 'GERMINADOS',\n",
       "       'MICROVEGETALES', 'EDDO', 'FLORES', 'HIERBAS', 'PAK', 'PATATA',\n",
       "       'ACEDIAS', 'ANCHOAS', 'ATUN', 'BACALAO', 'BESUGO', 'BOGAS',\n",
       "       'BOQUERON', 'BRECAS', 'CALAMAR', 'CAZON', 'DORADA', 'FANECAS',\n",
       "       'GALLO', 'JUREL', 'LENGUADO', 'LIBA', 'LIRIO', 'MERLUZA',\n",
       "       'PALOMETA-JAPUTA', 'PESCADILLA', 'PESCAD.', 'PEZ', 'COCOCHAS',\n",
       "       'PULPO', 'RAPE', 'RAYA', 'MENDOS', 'TINTORERA',\n",
       "       'BACALADILLA-LIRIO', 'JIBIA', 'ALIGOTE', 'ARENQUE', 'BROTOLA',\n",
       "       'CABALLA', 'CACHUCHO', 'CONGRIO', 'CORVINA', 'DENTON', 'GALLINAS',\n",
       "       'LUBINA', 'MARUCA', 'PARGO', 'RODABALLO', 'ROSADA', 'FILETE',\n",
       "       'SALMON', 'SARDINA', 'ANILLAS', 'MERO', 'ABADEJO', 'BAILAS',\n",
       "       'CHERNAS', 'LENGUADINA', 'PLATIJA', 'CHIPIRONES', 'TRUCHA',\n",
       "       'PALOMETA', 'CARBONERO', 'GULA', 'SAN', 'SALAZONES', 'TILAPIA',\n",
       "       'ALMEJAS', 'CANGREJO', 'CIGALAS', 'CHIRLA', 'GAMBAS', 'LANGOSTINO',\n",
       "       'MEJILLON', 'PERCEBE', 'QUISQUILLA', 'BERBERECHO', 'BIGAROS',\n",
       "       'BOGAVANTE', 'BUEY', 'CENTOLLOS', 'COQUINAS', 'LANGOSTAS',\n",
       "       'NAVAJA', 'NECORAS', 'OSTIONES', 'OSTRA', 'VIEIRA', 'CARACOLES',\n",
       "       'CAÑADILLA', 'CONCHA', 'ERIZO', 'VOLADORES', 'EMPANADILLAS',\n",
       "       'CROQUETAS', 'PALITOS', 'MUSLITOS', 'PATAS', 'SURIMI', 'REJO',\n",
       "       'HALIBUT', 'NISPEROS', 'KUMKUAT', 'ROMANESCU', 'TIRABEQUES',\n",
       "       'KALE', 'EMPERADOR', 'MAGRE', 'CABRACHO', 'MELVA', 'SOLLA',\n",
       "       'SALEMAS', 'PANGA', 'PERDIZ', 'RESTO', 'HINOJO', 'MUJOL', 'SABLE',\n",
       "       'ALACHA', 'PARAGUAYAS', 'ZAPOTES', 'FISALIS', 'LISA', 'BERROS',\n",
       "       'FRUTA', 'SETA/HONGO', 'BERTORELLAS', 'LULAS', 'MARRAJOS',\n",
       "       'CARAMBOLA', 'GUANÁBANA', 'AGUJA'], dtype=object)"
      ]
     },
     "execution_count": 69,
     "metadata": {},
     "output_type": "execute_result"
    }
   ],
   "source": [
    "df['nueva_categoria'].unique()"
   ]
  },
  {
   "cell_type": "code",
   "execution_count": 71,
   "metadata": {},
   "outputs": [
    {
     "name": "stdout",
     "output_type": "stream",
     "text": [
      "      fecha_desde fecha_hasta código_variedad        descripción_variedad  \\\n",
      "0      2024-01-01  2024-01-31         CA 0101                VACUNO CANAL   \n",
      "1      2024-01-01  2024-01-31         CA 0101                VACUNO CANAL   \n",
      "2      2024-01-01  2024-01-31         CA 0101                VACUNO CANAL   \n",
      "3      2024-01-01  2024-01-31         CA 0101                VACUNO CANAL   \n",
      "4      2024-01-01  2024-01-31         CA 0101                VACUNO CANAL   \n",
      "...           ...         ...             ...                         ...   \n",
      "27574  2024-09-01  2024-09-30         P6 9601  ELABORADOS CONGELADOS CONG   \n",
      "27575  2024-09-01  2024-09-30         P6 9601  ELABORADOS CONGELADOS CONG   \n",
      "27576  2024-09-01  2024-09-30         P6 9601  ELABORADOS CONGELADOS CONG   \n",
      "27577  2024-09-01  2024-09-30         P6 9601  ELABORADOS CONGELADOS CONG   \n",
      "27578  2024-09-01  2024-09-30         P6 9601  ELABORADOS CONGELADOS CONG   \n",
      "\n",
      "      origen     descripción_origen    kilos  precio_más_frecuente  \\\n",
      "0          1   ALAVA                   45830                  5.90   \n",
      "1          5   AVILA                   21140                  5.91   \n",
      "2          8   BARCELONA              137340                  5.91   \n",
      "3          9   BURGOS                  42456                  5.90   \n",
      "4         10   CACERES               2230424                  5.90   \n",
      "...      ...                    ...      ...                   ...   \n",
      "27574     46   VALENCIA                71802                  0.00   \n",
      "27575     48   VIZCAYA                  5568                  0.00   \n",
      "27576     60   FRANCIA                  3882                  0.00   \n",
      "27577     65   HOLANDA                 85580                  0.00   \n",
      "27578     69   PORTUGAL                 2100                  0.00   \n",
      "\n",
      "       precio_máximo  precio_mínimo  var_precios  trimestre tipo_general  \\\n",
      "0               5.91           5.89         0.02          1       VACUNO   \n",
      "1               5.91           5.91         0.00          1       VACUNO   \n",
      "2               5.91           5.90         0.01          1       VACUNO   \n",
      "3               5.91           5.89         0.02          1       VACUNO   \n",
      "4               5.91           5.89         0.02          1       VACUNO   \n",
      "...              ...            ...          ...        ...          ...   \n",
      "27574           0.00           0.00         0.00          3   ELABORADOS   \n",
      "27575           0.00           0.00         0.00          3   ELABORADOS   \n",
      "27576           0.00           0.00         0.00          3   ELABORADOS   \n",
      "27577           0.00           0.00         0.00          3   ELABORADOS   \n",
      "27578           0.00           0.00         0.00          3   ELABORADOS   \n",
      "\n",
      "      nueva_categoria categoria categoria_general  \n",
      "0              VACUNO     Carne             Carne  \n",
      "1              VACUNO     Carne             Carne  \n",
      "2              VACUNO     Carne             Carne  \n",
      "3              VACUNO     Carne             Carne  \n",
      "4              VACUNO     Carne             Carne  \n",
      "...               ...       ...               ...  \n",
      "27574      ELABORADOS     Otros             Otros  \n",
      "27575      ELABORADOS     Otros             Otros  \n",
      "27576      ELABORADOS     Otros             Otros  \n",
      "27577      ELABORADOS     Otros             Otros  \n",
      "27578      ELABORADOS     Otros             Otros  \n",
      "\n",
      "[27571 rows x 16 columns]\n"
     ]
    }
   ],
   "source": [
    "# Categoriza productos en carne,pescado y vegetales/frutas.(INTENTO)\n",
    "\n",
    "def categorizar_producto(producto):\n",
    "    carne = [\n",
    "        'VACUNO', 'OVINO', 'PORCINO', 'HUEVOS', 'POLLO', 'PAVO', 'CODORNIZ', 'CONEJO', 'PERDIZ'\n",
    "    ]\n",
    "    pescado = [\n",
    "        'ACEDIAS', 'ANCHOAS', 'ATUN', 'BACALAO', 'BESUGO', 'BOGAS', 'BOQUERON', 'BRECAS', 'CALAMAR', \n",
    "        'CAZON', 'DORADA', 'FANECAS', 'GALLO', 'JUREL', 'LENGUADO', 'LIBA', 'LIRIO', 'MERLUZA', \n",
    "        'PULPO', 'RAPE', 'RAYA', 'SALMON', 'SARDINA', 'ALMEJAS', 'GAMBAS', 'LANGOSTINO', 'MEJILLON'\n",
    "    ]\n",
    "    vegetales = [\n",
    "        'ZANAHORIAS', 'PIMIENTO', 'PATATA', 'PLATANOS', 'CIRUELAS', 'TOMATE', 'CEBOLLA', 'CALABACIN', \n",
    "        'ACELGAS', 'LECHUGAS', 'ESPINACAS', 'COLIFLOR', 'BROCOLI', 'BATATAS', 'GUISANTES', 'ESPARRAGOS',\n",
    "        'MANZANAS', 'PERAS', 'NARANJAS', 'FRESAS', 'LIMON', 'MANDARINAS', 'NUECES', 'AVELLANAS'\n",
    "    ]\n",
    "    \n",
    "    if producto in carne:\n",
    "        return 'Carne'\n",
    "    elif producto in pescado:\n",
    "        return 'Pescado'\n",
    "    elif producto in vegetales:\n",
    "        return 'Vegetales'\n",
    "    else:\n",
    "        return 'Otros'\n",
    "    \n",
    "# Crear una nueva columna con la categoría\n",
    "df['categoria_general'] = df['nueva_categoria'].apply(categorizar_producto)\n",
    "\n",
    "# Mostrar el DataFrame con las categorías\n",
    "print(df)"
   ]
  },
  {
   "cell_type": "code",
   "execution_count": null,
   "metadata": {},
   "outputs": [
    {
     "name": "stdout",
     "output_type": "stream",
     "text": [
      "Archivo Excel creado con éxito.\n"
     ]
    }
   ],
   "source": [
    "# df.to_excel('mercamadrid alt.xlsx', index=False)\n",
    "\n",
    "# print(\"Archivo Excel creado con éxito.\")"
   ]
  },
  {
   "cell_type": "code",
   "execution_count": null,
   "metadata": {},
   "outputs": [],
   "source": []
  },
  {
   "cell_type": "code",
   "execution_count": 75,
   "metadata": {},
   "outputs": [
    {
     "data": {
      "text/plain": [
       "categoria_general\n",
       "Vegetales    1109094201\n",
       "Carne         687038589\n",
       "Otros         508692926\n",
       "Pescado        76465178\n",
       "Name: kilos, dtype: int64"
      ]
     },
     "execution_count": 75,
     "metadata": {},
     "output_type": "execute_result"
    }
   ],
   "source": [
    "# Quiero saber que porcentaje sobre el total de kilos supone cada una de las agrupar_categorias\n",
    "df.groupby('categoria_general')['kilos'].sum().sort_values(ascending = False).head()\n"
   ]
  },
  {
   "cell_type": "markdown",
   "metadata": {},
   "source": [
    "Hay muchos productos categorizados como otros,habra que categorizarlos a mano."
   ]
  },
  {
   "cell_type": "code",
   "execution_count": 90,
   "metadata": {},
   "outputs": [
    {
     "data": {
      "text/plain": [
       "array(['AVICOLA', 'AGUACATE', 'ALBARICOQUE', 'CAQUIS', 'CASTAÑA',\n",
       "       'CEREZAS', 'COCOS', 'CHIRIMOYAS', 'DATILES', 'FRESON', 'GRANADAS',\n",
       "       'HIGOS', 'MELOCOTON', 'MELONES', 'MEMBRILLOS', 'NECTARINA', 'PIÑA',\n",
       "       'POMELO', 'SANDIA', 'UVA', 'ACEITUNAS', 'PAPAYA', 'GUAYABOS',\n",
       "       'MANGOS', 'KIWI', 'FRAMBUESAS', 'PITAHAYA', 'LIMA', 'OCRA',\n",
       "       'LITCHIS', 'GROSELLA', 'MORAS', 'CACAHUETE', 'PANCHITO',\n",
       "       'PISTACHO', 'ALMENDRA', 'ARÁNDANOS', 'AJOS', 'ALCACHOFAS', 'APIO',\n",
       "       'APIONABO', 'BERENJENAS', 'BONIATOS', 'CALABAZAS', 'CARDOS',\n",
       "       'COLES-REPOLLO', 'COL', 'COLES', 'CHAMPIÑON', 'CHIRIVIAS',\n",
       "       'ENDIVIA', 'ACHICORIA', 'ESCAROLAS', 'HABAS', 'JUDIAS', 'NABOS',\n",
       "       'PEPINO', 'PEREJIL', 'PUERROS', 'RABANOS', 'REMOLACHA', 'SETAS',\n",
       "       'GRELOS', 'GUINDILLAS', 'BORRAJAS', 'LAUREL', 'YUCA', 'MAIZ',\n",
       "       'JENGIBRE', 'YAME', 'CUARTA', 'QUINTA', 'CONSERVAS', 'CONGELADOS',\n",
       "       'ELABORADOS', 'CEBOLLINO', 'GERMINADOS', 'MICROVEGETALES', 'EDDO',\n",
       "       'FLORES', 'HIERBAS', 'PAK', 'PALOMETA-JAPUTA', 'PESCADILLA',\n",
       "       'PESCAD.', 'PEZ', 'COCOCHAS', 'MENDOS', 'TINTORERA',\n",
       "       'BACALADILLA-LIRIO', 'JIBIA', 'ALIGOTE', 'ARENQUE', 'BROTOLA',\n",
       "       'CABALLA', 'CACHUCHO', 'CONGRIO', 'CORVINA', 'DENTON', 'GALLINAS',\n",
       "       'LUBINA', 'MARUCA', 'PARGO', 'RODABALLO', 'ROSADA', 'FILETE',\n",
       "       'ANILLAS', 'MERO', 'ABADEJO', 'BAILAS', 'CHERNAS', 'LENGUADINA',\n",
       "       'PLATIJA', 'CHIPIRONES', 'TRUCHA', 'PALOMETA', 'CARBONERO', 'GULA',\n",
       "       'SAN', 'SALAZONES', 'TILAPIA', 'CANGREJO', 'CIGALAS', 'CHIRLA',\n",
       "       'PERCEBE', 'QUISQUILLA', 'BERBERECHO', 'BIGAROS', 'BOGAVANTE',\n",
       "       'BUEY', 'CENTOLLOS', 'COQUINAS', 'LANGOSTAS', 'NAVAJA', 'NECORAS',\n",
       "       'OSTIONES', 'OSTRA', 'VIEIRA', 'CARACOLES', 'CAÑADILLA', 'CONCHA',\n",
       "       'ERIZO', 'VOLADORES', 'EMPANADILLAS', 'CROQUETAS', 'PALITOS',\n",
       "       'MUSLITOS', 'PATAS', 'SURIMI', 'REJO', 'HALIBUT', 'NISPEROS',\n",
       "       'KUMKUAT', 'ROMANESCU', 'TIRABEQUES', 'KALE', 'EMPERADOR', 'MAGRE',\n",
       "       'CABRACHO', 'MELVA', 'SOLLA', 'SALEMAS', 'PANGA', 'RESTO',\n",
       "       'HINOJO', 'MUJOL', 'SABLE', 'ALACHA', 'PARAGUAYAS', 'ZAPOTES',\n",
       "       'FISALIS', 'LISA', 'BERROS', 'FRUTA', 'SETA/HONGO', 'BERTORELLAS',\n",
       "       'LULAS', 'MARRAJOS', 'CARAMBOLA', 'GUANÁBANA', 'AGUJA'],\n",
       "      dtype=object)"
      ]
     },
     "execution_count": 90,
     "metadata": {},
     "output_type": "execute_result"
    }
   ],
   "source": [
    "#Lista productos otros(muchos mal categorizados)\n",
    "df_try = df['nueva_categoria'][df['categoria_general'] == 'Otros']\n",
    "\n",
    "df_try.unique()\n"
   ]
  },
  {
   "cell_type": "code",
   "execution_count": null,
   "metadata": {},
   "outputs": [],
   "source": [
    "# Pendiente\n",
    "#1. Como juntar categorias que son el plural de otra (ejemplo: Platano, Platanos) OK\n",
    "\n",
    "#\n",
    "#3 Rebajar la escala de kilos a otro tipo de unidad más pequeña. COMO TONELADAS"
   ]
  },
  {
   "cell_type": "code",
   "execution_count": null,
   "metadata": {},
   "outputs": [],
   "source": [
    "# Cambio ciudades españolas a españa\n",
    "# Analizar productos por su variación en kilos(objetivo anticiparse a laas subidas y bajadas de demanda)"
   ]
  },
  {
   "cell_type": "code",
   "execution_count": null,
   "metadata": {},
   "outputs": [],
   "source": []
  },
  {
   "cell_type": "code",
   "execution_count": null,
   "metadata": {},
   "outputs": [],
   "source": []
  },
  {
   "cell_type": "code",
   "execution_count": null,
   "metadata": {},
   "outputs": [],
   "source": []
  },
  {
   "cell_type": "code",
   "execution_count": null,
   "metadata": {},
   "outputs": [],
   "source": []
  },
  {
   "cell_type": "markdown",
   "metadata": {},
   "source": [
    "# Top 5 variedades de productos"
   ]
  },
  {
   "cell_type": "code",
   "execution_count": 37,
   "metadata": {},
   "outputs": [],
   "source": [
    "# Agrupar por 'descripción_variedad' y sumar 'kilos'\n",
    "top_variedades = (\n",
    "    df.groupby('descripción_variedad', as_index=False)['kilos']\n",
    "    .sum()\n",
    "    .sort_values(by='kilos', ascending=False)\n",
    "    .head(5)\n",
    ")\n",
    "\n",
    "# Filtrar el DataFrame original con los 5 productos más comprados\n",
    "df_top_productos = df[df['descripción_variedad'].isin(top_variedades['descripción_variedad'])]"
   ]
  },
  {
   "cell_type": "code",
   "execution_count": 38,
   "metadata": {
    "tags": []
   },
   "outputs": [
    {
     "data": {
      "text/plain": [
       "array(['VACUNO CANAL', 'VACUNO FRESCO SIN ESPECIF', 'PLATANOS EXTRA',\n",
       "       'PLATANO IMPORT. O BANANA', 'PATATA BLANCA'], dtype=object)"
      ]
     },
     "execution_count": 38,
     "metadata": {},
     "output_type": "execute_result"
    }
   ],
   "source": [
    "# Categorias  producto top 5\n",
    "df_top_productos['descripción_variedad'].unique()"
   ]
  },
  {
   "cell_type": "code",
   "execution_count": 39,
   "metadata": {
    "tags": []
   },
   "outputs": [
    {
     "data": {
      "image/png": "[encoded data removed]",
      "text/plain": [
       "<Figure size 800x800 with 1 Axes>"
      ]
     },
     "metadata": {},
     "output_type": "display_data"
    }
   ],
   "source": [
    "plt.figure(figsize = (8,8))\n",
    "sns.barplot(data = df_top_productos, x= 'descripción_variedad', y = 'kilos', hue = 'trimestre')\n",
    "plt.xticks(rotation = 80)\n",
    "plt.show()\n"
   ]
  },
  {
   "cell_type": "code",
   "execution_count": 40,
   "metadata": {},
   "outputs": [
    {
     "ename": "SyntaxError",
     "evalue": "invalid syntax (2777405024.py, line 1)",
     "output_type": "error",
     "traceback": [
      "\u001b[1;36m  Cell \u001b[1;32mIn[40], line 1\u001b[1;36m\u001b[0m\n\u001b[1;33m    DEl top 5 destaca Vacuno fresco con gran diferencia conb demás categorias\u001b[0m\n\u001b[1;37m        ^\u001b[0m\n\u001b[1;31mSyntaxError\u001b[0m\u001b[1;31m:\u001b[0m invalid syntax\n"
     ]
    }
   ],
   "source": [
    "DEl top 5 destaca Vacuno fresco con gran diferencia conb demás categorias"
   ]
  },
  {
   "cell_type": "code",
   "execution_count": null,
   "metadata": {},
   "outputs": [],
   "source": []
  },
  {
   "cell_type": "markdown",
   "metadata": {},
   "source": [
    "# **Análisis vacuno**"
   ]
  },
  {
   "cell_type": "code",
   "execution_count": null,
   "metadata": {
    "tags": []
   },
   "outputs": [],
   "source": [
    "# Total de kilos\n",
    "total_kilos = df_vacuno['kilos'].sum()\n",
    "total_kilos"
   ]
  },
  {
   "cell_type": "code",
   "execution_count": null,
   "metadata": {
    "tags": []
   },
   "outputs": [],
   "source": [
    "# Top 5 ciudades con más producto\n",
    "top5_kilos = df_vacuno.groupby('descripción_origen')['kilos'].sum().sort_values(ascending= False).head()\n",
    "top5_kilos = top5_kilos.sum()\n",
    "top5_kilos"
   ]
  },
  {
   "cell_type": "code",
   "execution_count": null,
   "metadata": {
    "tags": []
   },
   "outputs": [],
   "source": [
    "# Porcentaje de kilos TOP 5 sobre el total\n",
    "porcentaje_top5 = (top5_kilos / total_kilos) * 100\n",
    "print(f\"El Top 5 de ciudades representa el {porcentaje_top5:.2f}% del total de las compras.\")"
   ]
  },
  {
   "cell_type": "code",
   "execution_count": null,
   "metadata": {
    "tags": []
   },
   "outputs": [],
   "source": [
    "plt.figure(figsize = (20,20))\n",
    "sns.barplot(data = df_vacuno, x = 'descripción_origen', y = 'kilos')\n",
    "plt.xticks(rotation=80)\n",
    "plt.show()"
   ]
  },
  {
   "cell_type": "code",
   "execution_count": null,
   "metadata": {},
   "outputs": [],
   "source": []
  },
  {
   "cell_type": "code",
   "execution_count": null,
   "metadata": {},
   "outputs": [],
   "source": [
    "df.sort_values(by ='var_precios', ascending= False).head(20)"
   ]
  }
 ],
 "metadata": {
  "kernelspec": {
   "display_name": "Python 3",
   "language": "python",
   "name": "python3"
  },
  "language_info": {
   "codemirror_mode": {
    "name": "ipython",
    "version": 3
   },
   "file_extension": ".py",
   "mimetype": "text/x-python",
   "name": "python",
   "nbconvert_exporter": "python",
   "pygments_lexer": "ipython3",
   "version": "3.12.2"
  }
 },
 "nbformat": 4,
 "nbformat_minor": 4
}
